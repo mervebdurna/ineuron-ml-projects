{
 "cells": [
  {
   "cell_type": "markdown",
   "id": "2b2efcd7",
   "metadata": {},
   "source": [
    "# Table Of Contents"
   ]
  },
  {
   "cell_type": "markdown",
   "id": "84572648",
   "metadata": {},
   "source": [
    "# Import Libraries"
   ]
  },
  {
   "cell_type": "code",
   "execution_count": 177,
   "id": "520c4d49",
   "metadata": {},
   "outputs": [],
   "source": [
    "# Basic Libraries\n",
    "import pandas as pd \n",
    "import numpy as np\n",
    "import seaborn as sns\n",
    "import matplotlib.pyplot as plt\n",
    "%matplotlib inline\n",
    "import os\n",
    "from dotenv import load_dotenv\n",
    "import scipy.sparse\n",
    "# MongoDB\n",
    "from pymongo import MongoClient\n",
    "\n",
    "# Modelling\n",
    "from sklearn.model_selection import train_test_split\n",
    "from sklearn.preprocessing import OneHotEncoder, StandardScaler\n",
    "from sklearn.linear_model import LogisticRegression\n",
    "from sklearn.svm import SVC\n",
    "from sklearn.model_selection import GridSearchCV\n",
    "from sklearn.metrics import confusion_matrix, accuracy_score, classification_report\n",
    "from sklearn.compose import make_column_transformer\n",
    "\n",
    "import certifi\n",
    "ca = certifi.where()\n",
    "\n",
    "\n",
    "#ignore warnings\n",
    "import warnings\n",
    "warnings.filterwarnings('ignore')\n"
   ]
  },
  {
   "cell_type": "markdown",
   "id": "2016f704",
   "metadata": {},
   "source": [
    "# Read Data From MongoDB"
   ]
  },
  {
   "cell_type": "code",
   "execution_count": 112,
   "id": "2ba916ba",
   "metadata": {},
   "outputs": [],
   "source": [
    "load_dotenv()\n",
    "username = os.getenv('USER_NAME')\n",
    "password = os.getenv('PASSWORD')\n",
    "\n",
    "# connect to MongoDB\n",
    "client = MongoClient('mongodb+srv://'+ username + ':' + password +'@mycluster.yrgvltw.mongodb.net/?retryWrites=true&w=majority', tlsCAFile=ca)"
   ]
  },
  {
   "cell_type": "code",
   "execution_count": 113,
   "id": "9c36973d",
   "metadata": {},
   "outputs": [],
   "source": [
    "# database \n",
    "db = client['mydatabase']\n",
    "\n",
    "# collection\n",
    "collection = db['census_income_cleaned']"
   ]
  },
  {
   "cell_type": "code",
   "execution_count": 128,
   "id": "4e7e888b",
   "metadata": {},
   "outputs": [],
   "source": [
    "# read data from collection\n",
    "collection_data=collection.find()\n",
    "\n",
    "# convert collection data to DataFrame\n",
    "df = pd.DataFrame(collection_data)"
   ]
  },
  {
   "cell_type": "code",
   "execution_count": 129,
   "id": "6d3e8811",
   "metadata": {},
   "outputs": [
    {
     "data": {
      "text/html": [
       "<div>\n",
       "<style scoped>\n",
       "    .dataframe tbody tr th:only-of-type {\n",
       "        vertical-align: middle;\n",
       "    }\n",
       "\n",
       "    .dataframe tbody tr th {\n",
       "        vertical-align: top;\n",
       "    }\n",
       "\n",
       "    .dataframe thead th {\n",
       "        text-align: right;\n",
       "    }\n",
       "</style>\n",
       "<table border=\"1\" class=\"dataframe\">\n",
       "  <thead>\n",
       "    <tr style=\"text-align: right;\">\n",
       "      <th></th>\n",
       "      <th>_id</th>\n",
       "      <th>index</th>\n",
       "      <th>age</th>\n",
       "      <th>workclass</th>\n",
       "      <th>fnlwgt</th>\n",
       "      <th>education_num</th>\n",
       "      <th>marital_status</th>\n",
       "      <th>occupation</th>\n",
       "      <th>relationship</th>\n",
       "      <th>race</th>\n",
       "      <th>sex</th>\n",
       "      <th>hours_per_week</th>\n",
       "      <th>salary</th>\n",
       "    </tr>\n",
       "  </thead>\n",
       "  <tbody>\n",
       "    <tr>\n",
       "      <th>0</th>\n",
       "      <td>636e2a9edf2119b62c7140b3</td>\n",
       "      <td>0</td>\n",
       "      <td>39</td>\n",
       "      <td>State-gov</td>\n",
       "      <td>77516</td>\n",
       "      <td>13</td>\n",
       "      <td>Never-married</td>\n",
       "      <td>Adm-clerical</td>\n",
       "      <td>Not-in-family</td>\n",
       "      <td>White</td>\n",
       "      <td>Male</td>\n",
       "      <td>40</td>\n",
       "      <td>&lt;=50K</td>\n",
       "    </tr>\n",
       "    <tr>\n",
       "      <th>1</th>\n",
       "      <td>636e2a9edf2119b62c7140b4</td>\n",
       "      <td>1</td>\n",
       "      <td>50</td>\n",
       "      <td>Self-emp-not-inc</td>\n",
       "      <td>83311</td>\n",
       "      <td>13</td>\n",
       "      <td>Married-civ-spouse</td>\n",
       "      <td>Exec-managerial</td>\n",
       "      <td>Husband</td>\n",
       "      <td>White</td>\n",
       "      <td>Male</td>\n",
       "      <td>13</td>\n",
       "      <td>&lt;=50K</td>\n",
       "    </tr>\n",
       "    <tr>\n",
       "      <th>2</th>\n",
       "      <td>636e2a9edf2119b62c7140b5</td>\n",
       "      <td>2</td>\n",
       "      <td>38</td>\n",
       "      <td>Private</td>\n",
       "      <td>215646</td>\n",
       "      <td>9</td>\n",
       "      <td>Divorced</td>\n",
       "      <td>Handlers-cleaners</td>\n",
       "      <td>Not-in-family</td>\n",
       "      <td>White</td>\n",
       "      <td>Male</td>\n",
       "      <td>40</td>\n",
       "      <td>&lt;=50K</td>\n",
       "    </tr>\n",
       "    <tr>\n",
       "      <th>3</th>\n",
       "      <td>636e2a9edf2119b62c7140b6</td>\n",
       "      <td>3</td>\n",
       "      <td>53</td>\n",
       "      <td>Private</td>\n",
       "      <td>234721</td>\n",
       "      <td>7</td>\n",
       "      <td>Married-civ-spouse</td>\n",
       "      <td>Handlers-cleaners</td>\n",
       "      <td>Husband</td>\n",
       "      <td>Black</td>\n",
       "      <td>Male</td>\n",
       "      <td>40</td>\n",
       "      <td>&lt;=50K</td>\n",
       "    </tr>\n",
       "    <tr>\n",
       "      <th>4</th>\n",
       "      <td>636e2a9edf2119b62c7140b7</td>\n",
       "      <td>4</td>\n",
       "      <td>28</td>\n",
       "      <td>Private</td>\n",
       "      <td>338409</td>\n",
       "      <td>13</td>\n",
       "      <td>Married-civ-spouse</td>\n",
       "      <td>Prof-specialty</td>\n",
       "      <td>Wife</td>\n",
       "      <td>Black</td>\n",
       "      <td>Female</td>\n",
       "      <td>40</td>\n",
       "      <td>&lt;=50K</td>\n",
       "    </tr>\n",
       "  </tbody>\n",
       "</table>\n",
       "</div>"
      ],
      "text/plain": [
       "                        _id  index  age         workclass  fnlwgt  \\\n",
       "0  636e2a9edf2119b62c7140b3      0   39         State-gov   77516   \n",
       "1  636e2a9edf2119b62c7140b4      1   50  Self-emp-not-inc   83311   \n",
       "2  636e2a9edf2119b62c7140b5      2   38           Private  215646   \n",
       "3  636e2a9edf2119b62c7140b6      3   53           Private  234721   \n",
       "4  636e2a9edf2119b62c7140b7      4   28           Private  338409   \n",
       "\n",
       "   education_num      marital_status         occupation   relationship   race  \\\n",
       "0             13       Never-married       Adm-clerical  Not-in-family  White   \n",
       "1             13  Married-civ-spouse    Exec-managerial        Husband  White   \n",
       "2              9            Divorced  Handlers-cleaners  Not-in-family  White   \n",
       "3              7  Married-civ-spouse  Handlers-cleaners        Husband  Black   \n",
       "4             13  Married-civ-spouse     Prof-specialty           Wife  Black   \n",
       "\n",
       "      sex  hours_per_week salary  \n",
       "0    Male              40  <=50K  \n",
       "1    Male              13  <=50K  \n",
       "2    Male              40  <=50K  \n",
       "3    Male              40  <=50K  \n",
       "4  Female              40  <=50K  "
      ]
     },
     "execution_count": 129,
     "metadata": {},
     "output_type": "execute_result"
    }
   ],
   "source": [
    "df.head()"
   ]
  },
  {
   "cell_type": "code",
   "execution_count": 130,
   "id": "66859f33",
   "metadata": {},
   "outputs": [],
   "source": [
    "# remove _id,level_0 and index\n",
    "df = df.iloc[:,3:]"
   ]
  },
  {
   "cell_type": "code",
   "execution_count": 131,
   "id": "28807082",
   "metadata": {},
   "outputs": [
    {
     "data": {
      "text/html": [
       "<div>\n",
       "<style scoped>\n",
       "    .dataframe tbody tr th:only-of-type {\n",
       "        vertical-align: middle;\n",
       "    }\n",
       "\n",
       "    .dataframe tbody tr th {\n",
       "        vertical-align: top;\n",
       "    }\n",
       "\n",
       "    .dataframe thead th {\n",
       "        text-align: right;\n",
       "    }\n",
       "</style>\n",
       "<table border=\"1\" class=\"dataframe\">\n",
       "  <thead>\n",
       "    <tr style=\"text-align: right;\">\n",
       "      <th></th>\n",
       "      <th>workclass</th>\n",
       "      <th>fnlwgt</th>\n",
       "      <th>education_num</th>\n",
       "      <th>marital_status</th>\n",
       "      <th>occupation</th>\n",
       "      <th>relationship</th>\n",
       "      <th>race</th>\n",
       "      <th>sex</th>\n",
       "      <th>hours_per_week</th>\n",
       "      <th>salary</th>\n",
       "    </tr>\n",
       "  </thead>\n",
       "  <tbody>\n",
       "    <tr>\n",
       "      <th>0</th>\n",
       "      <td>State-gov</td>\n",
       "      <td>77516</td>\n",
       "      <td>13</td>\n",
       "      <td>Never-married</td>\n",
       "      <td>Adm-clerical</td>\n",
       "      <td>Not-in-family</td>\n",
       "      <td>White</td>\n",
       "      <td>Male</td>\n",
       "      <td>40</td>\n",
       "      <td>&lt;=50K</td>\n",
       "    </tr>\n",
       "    <tr>\n",
       "      <th>1</th>\n",
       "      <td>Self-emp-not-inc</td>\n",
       "      <td>83311</td>\n",
       "      <td>13</td>\n",
       "      <td>Married-civ-spouse</td>\n",
       "      <td>Exec-managerial</td>\n",
       "      <td>Husband</td>\n",
       "      <td>White</td>\n",
       "      <td>Male</td>\n",
       "      <td>13</td>\n",
       "      <td>&lt;=50K</td>\n",
       "    </tr>\n",
       "    <tr>\n",
       "      <th>2</th>\n",
       "      <td>Private</td>\n",
       "      <td>215646</td>\n",
       "      <td>9</td>\n",
       "      <td>Divorced</td>\n",
       "      <td>Handlers-cleaners</td>\n",
       "      <td>Not-in-family</td>\n",
       "      <td>White</td>\n",
       "      <td>Male</td>\n",
       "      <td>40</td>\n",
       "      <td>&lt;=50K</td>\n",
       "    </tr>\n",
       "    <tr>\n",
       "      <th>3</th>\n",
       "      <td>Private</td>\n",
       "      <td>234721</td>\n",
       "      <td>7</td>\n",
       "      <td>Married-civ-spouse</td>\n",
       "      <td>Handlers-cleaners</td>\n",
       "      <td>Husband</td>\n",
       "      <td>Black</td>\n",
       "      <td>Male</td>\n",
       "      <td>40</td>\n",
       "      <td>&lt;=50K</td>\n",
       "    </tr>\n",
       "    <tr>\n",
       "      <th>4</th>\n",
       "      <td>Private</td>\n",
       "      <td>338409</td>\n",
       "      <td>13</td>\n",
       "      <td>Married-civ-spouse</td>\n",
       "      <td>Prof-specialty</td>\n",
       "      <td>Wife</td>\n",
       "      <td>Black</td>\n",
       "      <td>Female</td>\n",
       "      <td>40</td>\n",
       "      <td>&lt;=50K</td>\n",
       "    </tr>\n",
       "  </tbody>\n",
       "</table>\n",
       "</div>"
      ],
      "text/plain": [
       "          workclass  fnlwgt  education_num      marital_status  \\\n",
       "0         State-gov   77516             13       Never-married   \n",
       "1  Self-emp-not-inc   83311             13  Married-civ-spouse   \n",
       "2           Private  215646              9            Divorced   \n",
       "3           Private  234721              7  Married-civ-spouse   \n",
       "4           Private  338409             13  Married-civ-spouse   \n",
       "\n",
       "          occupation   relationship   race     sex  hours_per_week salary  \n",
       "0       Adm-clerical  Not-in-family  White    Male              40  <=50K  \n",
       "1    Exec-managerial        Husband  White    Male              13  <=50K  \n",
       "2  Handlers-cleaners  Not-in-family  White    Male              40  <=50K  \n",
       "3  Handlers-cleaners        Husband  Black    Male              40  <=50K  \n",
       "4     Prof-specialty           Wife  Black  Female              40  <=50K  "
      ]
     },
     "execution_count": 131,
     "metadata": {},
     "output_type": "execute_result"
    }
   ],
   "source": [
    "df.head()"
   ]
  },
  {
   "cell_type": "markdown",
   "id": "91cd7e97",
   "metadata": {},
   "source": [
    "# Feature Engineering"
   ]
  },
  {
   "cell_type": "markdown",
   "id": "718540c6",
   "metadata": {},
   "source": [
    "## Split Features and Target"
   ]
  },
  {
   "cell_type": "code",
   "execution_count": 206,
   "id": "afc37f39",
   "metadata": {},
   "outputs": [],
   "source": [
    "# split feature and target\n",
    "X = df.iloc[:,:-1]\n",
    "y = df['salary']"
   ]
  },
  {
   "cell_type": "code",
   "execution_count": 220,
   "id": "fc9feca2",
   "metadata": {
    "scrolled": false
   },
   "outputs": [],
   "source": [
    "# train test split\n",
    "X_train, X_test, y_train, y_test = train_test_split(X, y, test_size=0.3, random_state=42)\n"
   ]
  },
  {
   "cell_type": "code",
   "execution_count": 221,
   "id": "661bb08d",
   "metadata": {},
   "outputs": [
    {
     "name": "stdout",
     "output_type": "stream",
     "text": [
      "X_train shape : (31635, 9)\n",
      "X_test shape : (13559, 9)\n"
     ]
    }
   ],
   "source": [
    "print('X_train shape : {}\\nX_test shape : {}'.format(X_train.shape,X_test.shape))"
   ]
  },
  {
   "cell_type": "markdown",
   "id": "9d2379de",
   "metadata": {},
   "source": [
    "## Feature Encoding"
   ]
  },
  {
   "cell_type": "code",
   "execution_count": 222,
   "id": "58950ad1",
   "metadata": {},
   "outputs": [],
   "source": [
    "# Encode categoric values\n",
    "# Scale numeric values\n",
    "transformer = make_column_transformer(\n",
    "    (StandardScaler(), [col for col in X_train.columns if df[col].dtype == 'int64']),\n",
    "    (OneHotEncoder(sparse=False),[col for col in X_train.columns if df[col].dtype == object]),\n",
    "     remainder='passthrough')\n",
    "\n",
    "\n",
    "X_train = pd.DataFrame(transformer.fit_transform(X_train))\n",
    "X_test = pd.DataFrame(transformer.transform(X_test))"
   ]
  },
  {
   "cell_type": "code",
   "execution_count": 223,
   "id": "055825b3",
   "metadata": {},
   "outputs": [],
   "source": [
    "logistic_reg=LogisticRegression()\n",
    "logistic_reg.fit(X_train, y_train)\n",
    "logistic_reg_pred=logistic_reg.predict(X_test)"
   ]
  },
  {
   "cell_type": "code",
   "execution_count": 224,
   "id": "92d776e0",
   "metadata": {},
   "outputs": [
    {
     "data": {
      "text/plain": [
       "array([[9352,  840],\n",
       "       [1478, 1889]], dtype=int64)"
      ]
     },
     "execution_count": 224,
     "metadata": {},
     "output_type": "execute_result"
    }
   ],
   "source": [
    "confusion_mat=confusion_matrix(y_test, logistic_reg_pred)\n",
    "confusion_mat"
   ]
  },
  {
   "cell_type": "code",
   "execution_count": 225,
   "id": "f47d017a",
   "metadata": {
    "scrolled": true
   },
   "outputs": [
    {
     "name": "stdout",
     "output_type": "stream",
     "text": [
      "              precision    recall  f1-score   support\n",
      "\n",
      "       <=50K       0.86      0.92      0.89     10192\n",
      "        >50K       0.69      0.56      0.62      3367\n",
      "\n",
      "    accuracy                           0.83     13559\n",
      "   macro avg       0.78      0.74      0.75     13559\n",
      "weighted avg       0.82      0.83      0.82     13559\n",
      "\n"
     ]
    }
   ],
   "source": [
    "classification_rep_log_reg=classification_report(y_test, logistic_reg_pred)\n",
    "print(classification_rep_log_reg)"
   ]
  },
  {
   "cell_type": "code",
   "execution_count": null,
   "id": "be0e54be",
   "metadata": {},
   "outputs": [],
   "source": []
  },
  {
   "cell_type": "code",
   "execution_count": null,
   "id": "0e07897e",
   "metadata": {},
   "outputs": [],
   "source": []
  },
  {
   "cell_type": "code",
   "execution_count": null,
   "id": "8b4725aa",
   "metadata": {},
   "outputs": [],
   "source": []
  }
 ],
 "metadata": {
  "kernelspec": {
   "display_name": "Python 3 (ipykernel)",
   "language": "python",
   "name": "python3"
  },
  "language_info": {
   "codemirror_mode": {
    "name": "ipython",
    "version": 3
   },
   "file_extension": ".py",
   "mimetype": "text/x-python",
   "name": "python",
   "nbconvert_exporter": "python",
   "pygments_lexer": "ipython3",
   "version": "3.9.12"
  }
 },
 "nbformat": 4,
 "nbformat_minor": 5
}
