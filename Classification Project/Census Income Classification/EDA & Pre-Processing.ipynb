{
 "cells": [
  {
   "cell_type": "markdown",
   "id": "f80a99f9",
   "metadata": {},
   "source": [
    "# Table Of Contents :\n",
    "* Problem Statement"
   ]
  },
  {
   "cell_type": "markdown",
   "id": "51dc897e",
   "metadata": {},
   "source": [
    "# Problem Statement"
   ]
  },
  {
   "attachments": {
    "image.png": {
     "image/png": "[encoded data removed]"
    }
   },
   "cell_type": "markdown",
   "id": "0616eae1",
   "metadata": {},
   "source": [
    "**Aim :** To predict whether person makes over 50K a year based on census data.\n",
    "\n",
    "**Data Source :** https://archive.ics.uci.edu/ml/datasets/Census+Income\n",
    "\n",
    "**Data Information :**\n",
    "![image.png](attachment:image.png)\n",
    "\n",
    "**Attribute Information :**\n",
    "\n",
    "**age:** continuous.\n",
    "\n",
    "**workclass:** Private, Self-emp-not-inc, Self-emp-inc, Federal-gov, Local-gov, State-gov, Without-pay, Never-worked.\n",
    "\n",
    "**fnlwgt:** continuous.\n",
    "\n",
    "**education:** Bachelors, Some-college, 11th, HS-grad, Prof-school, Assoc-acdm, Assoc-voc, 9th, 7th-8th, 12th, Masters, 1st-4th, 10th, Doctorate, 5th-6th, Preschool.\n",
    "\n",
    "**education_num:** continuous.\n",
    "\n",
    "**marital_status:** Married-civ-spouse, Divorced, Never-married, Separated, \n",
    "Widowed, Married-spouse-absent, Married-AF-spouse.\n",
    "\n",
    "**occupation:** Tech-support, Craft-repair, Other-service, Sales, Exec-managerial, Prof-specialty, Handlers-cleaners, Machine-op-inspct, Adm-clerical, Farming-fishing, Transport-moving, Priv-house-serv, Protective-serv, Armed-Forces.\n",
    "\n",
    "**relationship:** Wife, Own-child, Husband, Not-in-family, Other-relative, Unmarried.\n",
    "\n",
    "**race:** White, Asian-Pac-Islander, Amer-Indian-Eskimo, Other, Black.\n",
    "\n",
    "**sex:** Female, Male.\n",
    "\n",
    "**capital_gain:** continuous.\n",
    "\n",
    "**capital_loss:** continuous.\n",
    "\n",
    "**hours_per_week:** continuous.\n",
    "\n",
    "**native_country:** United-States, Cambodia, England, Puerto-Rico, Canada, Germany, Outlying-US(Guam-USVI-etc), India, Japan, Greece, South, China, Cuba, Iran, Honduras, Philippines, Italy, Poland, Jamaica, Vietnam, Mexico, Portugal, Ireland, France, Dominican-Republic, Laos, Ecuador, Taiwan, Haiti, Columbia, Hungary, Guatemala, Nicaragua, Scotland, Thailand, Yugoslavia, El-Salvador, Trinadad&Tobago, Peru, Hong, Holand-Netherlands.\n",
    "\n",
    "**salary :** 50K, <=50K.\n",
    "\n"
   ]
  },
  {
   "cell_type": "markdown",
   "id": "a8eed8f1",
   "metadata": {},
   "source": [
    "# Import Libraries"
   ]
  },
  {
   "cell_type": "code",
   "execution_count": 5,
   "id": "9ba40ec5",
   "metadata": {},
   "outputs": [],
   "source": [
    "import pandas as pd \n",
    "import numpy as np\n",
    "import seaborn as sns\n",
    "import matplotlib.pyplot as plt\n",
    "%matplotlib inline\n",
    "from pymongo import MongoClient\n",
    "from io import StringIO, BytesIO, TextIOWrapper\n",
    "from zipfile import ZipFile\n",
    "import urllib.request\n",
    "import os \n",
    "from dotenv import load_dotenv"
   ]
  },
  {
   "cell_type": "markdown",
   "id": "5102058e",
   "metadata": {},
   "source": [
    "# Read Data From Url"
   ]
  },
  {
   "cell_type": "code",
   "execution_count": 17,
   "id": "40ce2792",
   "metadata": {},
   "outputs": [],
   "source": [
    "uci_income_1_url = 'https://archive.ics.uci.edu/ml/machine-learning-databases/adult/adult.data'\n",
    "uci_income_2_url = 'https://archive.ics.uci.edu/ml/machine-learning-databases/adult/adult.test'"
   ]
  },
  {
   "cell_type": "code",
   "execution_count": 29,
   "id": "2bee76f1",
   "metadata": {},
   "outputs": [],
   "source": [
    "df_1=pd.read_csv(uci_income_1_url, sep=',', header=None)\n",
    "df_2=pd.read_csv(uci_income_2_url, sep=',',header=None, skiprows=1)"
   ]
  },
  {
   "cell_type": "code",
   "execution_count": 32,
   "id": "ad9b7aeb",
   "metadata": {},
   "outputs": [
    {
     "data": {
      "text/plain": [
       "(32561, 15)"
      ]
     },
     "execution_count": 32,
     "metadata": {},
     "output_type": "execute_result"
    }
   ],
   "source": [
    "df_1.shape"
   ]
  },
  {
   "cell_type": "code",
   "execution_count": 31,
   "id": "c55b4850",
   "metadata": {},
   "outputs": [
    {
     "data": {
      "text/plain": [
       "(16281, 15)"
      ]
     },
     "execution_count": 31,
     "metadata": {},
     "output_type": "execute_result"
    }
   ],
   "source": [
    "df_2.shape"
   ]
  },
  {
   "cell_type": "code",
   "execution_count": 34,
   "id": "73e15062",
   "metadata": {},
   "outputs": [],
   "source": [
    "df = pd.concat([df_1,df_2])"
   ]
  },
  {
   "cell_type": "code",
   "execution_count": 35,
   "id": "3f6ffe22",
   "metadata": {},
   "outputs": [
    {
     "data": {
      "text/plain": [
       "(48842, 15)"
      ]
     },
     "execution_count": 35,
     "metadata": {},
     "output_type": "execute_result"
    }
   ],
   "source": [
    "df.shape"
   ]
  },
  {
   "cell_type": "markdown",
   "id": "fe52fad0",
   "metadata": {},
   "source": [
    "# Data Cleaning"
   ]
  },
  {
   "cell_type": "code",
   "execution_count": 40,
   "id": "bf81ad7b",
   "metadata": {},
   "outputs": [
    {
     "data": {
      "text/html": [
       "<div>\n",
       "<style scoped>\n",
       "    .dataframe tbody tr th:only-of-type {\n",
       "        vertical-align: middle;\n",
       "    }\n",
       "\n",
       "    .dataframe tbody tr th {\n",
       "        vertical-align: top;\n",
       "    }\n",
       "\n",
       "    .dataframe thead th {\n",
       "        text-align: right;\n",
       "    }\n",
       "</style>\n",
       "<table border=\"1\" class=\"dataframe\">\n",
       "  <thead>\n",
       "    <tr style=\"text-align: right;\">\n",
       "      <th></th>\n",
       "      <th>age</th>\n",
       "      <th>workclass</th>\n",
       "      <th>fnlwgt</th>\n",
       "      <th>education</th>\n",
       "      <th>education_num</th>\n",
       "      <th>marital_status</th>\n",
       "      <th>occupation</th>\n",
       "      <th>relationship</th>\n",
       "      <th>race</th>\n",
       "      <th>sex</th>\n",
       "      <th>capital_gain</th>\n",
       "      <th>capital_loss</th>\n",
       "      <th>hours_per_week</th>\n",
       "      <th>native_country</th>\n",
       "      <th>salary</th>\n",
       "    </tr>\n",
       "  </thead>\n",
       "  <tbody>\n",
       "    <tr>\n",
       "      <th>0</th>\n",
       "      <td>39</td>\n",
       "      <td>State-gov</td>\n",
       "      <td>77516</td>\n",
       "      <td>Bachelors</td>\n",
       "      <td>13</td>\n",
       "      <td>Never-married</td>\n",
       "      <td>Adm-clerical</td>\n",
       "      <td>Not-in-family</td>\n",
       "      <td>White</td>\n",
       "      <td>Male</td>\n",
       "      <td>2174</td>\n",
       "      <td>0</td>\n",
       "      <td>40</td>\n",
       "      <td>United-States</td>\n",
       "      <td>&lt;=50K</td>\n",
       "    </tr>\n",
       "    <tr>\n",
       "      <th>1</th>\n",
       "      <td>50</td>\n",
       "      <td>Self-emp-not-inc</td>\n",
       "      <td>83311</td>\n",
       "      <td>Bachelors</td>\n",
       "      <td>13</td>\n",
       "      <td>Married-civ-spouse</td>\n",
       "      <td>Exec-managerial</td>\n",
       "      <td>Husband</td>\n",
       "      <td>White</td>\n",
       "      <td>Male</td>\n",
       "      <td>0</td>\n",
       "      <td>0</td>\n",
       "      <td>13</td>\n",
       "      <td>United-States</td>\n",
       "      <td>&lt;=50K</td>\n",
       "    </tr>\n",
       "    <tr>\n",
       "      <th>2</th>\n",
       "      <td>38</td>\n",
       "      <td>Private</td>\n",
       "      <td>215646</td>\n",
       "      <td>HS-grad</td>\n",
       "      <td>9</td>\n",
       "      <td>Divorced</td>\n",
       "      <td>Handlers-cleaners</td>\n",
       "      <td>Not-in-family</td>\n",
       "      <td>White</td>\n",
       "      <td>Male</td>\n",
       "      <td>0</td>\n",
       "      <td>0</td>\n",
       "      <td>40</td>\n",
       "      <td>United-States</td>\n",
       "      <td>&lt;=50K</td>\n",
       "    </tr>\n",
       "    <tr>\n",
       "      <th>3</th>\n",
       "      <td>53</td>\n",
       "      <td>Private</td>\n",
       "      <td>234721</td>\n",
       "      <td>11th</td>\n",
       "      <td>7</td>\n",
       "      <td>Married-civ-spouse</td>\n",
       "      <td>Handlers-cleaners</td>\n",
       "      <td>Husband</td>\n",
       "      <td>Black</td>\n",
       "      <td>Male</td>\n",
       "      <td>0</td>\n",
       "      <td>0</td>\n",
       "      <td>40</td>\n",
       "      <td>United-States</td>\n",
       "      <td>&lt;=50K</td>\n",
       "    </tr>\n",
       "    <tr>\n",
       "      <th>4</th>\n",
       "      <td>28</td>\n",
       "      <td>Private</td>\n",
       "      <td>338409</td>\n",
       "      <td>Bachelors</td>\n",
       "      <td>13</td>\n",
       "      <td>Married-civ-spouse</td>\n",
       "      <td>Prof-specialty</td>\n",
       "      <td>Wife</td>\n",
       "      <td>Black</td>\n",
       "      <td>Female</td>\n",
       "      <td>0</td>\n",
       "      <td>0</td>\n",
       "      <td>40</td>\n",
       "      <td>Cuba</td>\n",
       "      <td>&lt;=50K</td>\n",
       "    </tr>\n",
       "  </tbody>\n",
       "</table>\n",
       "</div>"
      ],
      "text/plain": [
       "   age          workclass  fnlwgt   education  education_num  \\\n",
       "0   39          State-gov   77516   Bachelors             13   \n",
       "1   50   Self-emp-not-inc   83311   Bachelors             13   \n",
       "2   38            Private  215646     HS-grad              9   \n",
       "3   53            Private  234721        11th              7   \n",
       "4   28            Private  338409   Bachelors             13   \n",
       "\n",
       "        marital_status          occupation    relationship    race      sex  \\\n",
       "0        Never-married        Adm-clerical   Not-in-family   White     Male   \n",
       "1   Married-civ-spouse     Exec-managerial         Husband   White     Male   \n",
       "2             Divorced   Handlers-cleaners   Not-in-family   White     Male   \n",
       "3   Married-civ-spouse   Handlers-cleaners         Husband   Black     Male   \n",
       "4   Married-civ-spouse      Prof-specialty            Wife   Black   Female   \n",
       "\n",
       "   capital_gain  capital_loss  hours_per_week  native_country  salary  \n",
       "0          2174             0              40   United-States   <=50K  \n",
       "1             0             0              13   United-States   <=50K  \n",
       "2             0             0              40   United-States   <=50K  \n",
       "3             0             0              40   United-States   <=50K  \n",
       "4             0             0              40            Cuba   <=50K  "
      ]
     },
     "execution_count": 40,
     "metadata": {},
     "output_type": "execute_result"
    }
   ],
   "source": [
    "df.head()"
   ]
  },
  {
   "cell_type": "code",
   "execution_count": 41,
   "id": "ae4e7113",
   "metadata": {},
   "outputs": [],
   "source": [
    "# Assign column names\n",
    "df.columns = ['age', 'workclass', 'fnlwgt', 'education', 'education_num',\n",
    "       'marital_status', 'occupation', 'relationship', 'race', 'sex',\n",
    "       'capital_gain', 'capital_loss', 'hours_per_week', 'native_country',\n",
    "       'salary']"
   ]
  },
  {
   "cell_type": "code",
   "execution_count": 42,
   "id": "14709d0a",
   "metadata": {
    "collapsed": true
   },
   "outputs": [
    {
     "data": {
      "text/plain": [
       "age               0\n",
       "workclass         0\n",
       "fnlwgt            0\n",
       "education         0\n",
       "education_num     0\n",
       "marital_status    0\n",
       "occupation        0\n",
       "relationship      0\n",
       "race              0\n",
       "sex               0\n",
       "capital_gain      0\n",
       "capital_loss      0\n",
       "hours_per_week    0\n",
       "native_country    0\n",
       "salary            0\n",
       "dtype: int64"
      ]
     },
     "execution_count": 42,
     "metadata": {},
     "output_type": "execute_result"
    }
   ],
   "source": [
    "# Checking missing values\n",
    "df.isnull().sum()"
   ]
  },
  {
   "cell_type": "code",
   "execution_count": 43,
   "id": "cf34d226",
   "metadata": {},
   "outputs": [
    {
     "data": {
      "text/plain": [
       "29"
      ]
     },
     "execution_count": 43,
     "metadata": {},
     "output_type": "execute_result"
    }
   ],
   "source": [
    "# Checking duplicates\n",
    "df.duplicated().sum()"
   ]
  },
  {
   "cell_type": "code",
   "execution_count": 44,
   "id": "d927bf33",
   "metadata": {},
   "outputs": [],
   "source": [
    "# Removing duplicates\n",
    "df.drop_duplicates(inplace=True)"
   ]
  },
  {
   "cell_type": "markdown",
   "id": "720a2335",
   "metadata": {},
   "source": [
    "# Exploratory Data Analysis (EDA)"
   ]
  },
  {
   "cell_type": "code",
   "execution_count": 48,
   "id": "dd947122",
   "metadata": {},
   "outputs": [
    {
     "name": "stdout",
     "output_type": "stream",
     "text": [
      "<class 'pandas.core.frame.DataFrame'>\n",
      "Int64Index: 48813 entries, 0 to 16280\n",
      "Data columns (total 15 columns):\n",
      " #   Column          Non-Null Count  Dtype \n",
      "---  ------          --------------  ----- \n",
      " 0   age             48813 non-null  int64 \n",
      " 1   workclass       48813 non-null  object\n",
      " 2   fnlwgt          48813 non-null  int64 \n",
      " 3   education       48813 non-null  object\n",
      " 4   education_num   48813 non-null  int64 \n",
      " 5   marital_status  48813 non-null  object\n",
      " 6   occupation      48813 non-null  object\n",
      " 7   relationship    48813 non-null  object\n",
      " 8   race            48813 non-null  object\n",
      " 9   sex             48813 non-null  object\n",
      " 10  capital_gain    48813 non-null  int64 \n",
      " 11  capital_loss    48813 non-null  int64 \n",
      " 12  hours_per_week  48813 non-null  int64 \n",
      " 13  native_country  48813 non-null  object\n",
      " 14  salary          48813 non-null  object\n",
      "dtypes: int64(6), object(9)\n",
      "memory usage: 6.0+ MB\n"
     ]
    }
   ],
   "source": [
    "# General information about dataset\n",
    "df.info()"
   ]
  },
  {
   "cell_type": "code",
   "execution_count": 49,
   "id": "03bc9969",
   "metadata": {},
   "outputs": [
    {
     "data": {
      "text/html": [
       "<div>\n",
       "<style scoped>\n",
       "    .dataframe tbody tr th:only-of-type {\n",
       "        vertical-align: middle;\n",
       "    }\n",
       "\n",
       "    .dataframe tbody tr th {\n",
       "        vertical-align: top;\n",
       "    }\n",
       "\n",
       "    .dataframe thead th {\n",
       "        text-align: right;\n",
       "    }\n",
       "</style>\n",
       "<table border=\"1\" class=\"dataframe\">\n",
       "  <thead>\n",
       "    <tr style=\"text-align: right;\">\n",
       "      <th></th>\n",
       "      <th>age</th>\n",
       "      <th>fnlwgt</th>\n",
       "      <th>education_num</th>\n",
       "      <th>capital_gain</th>\n",
       "      <th>capital_loss</th>\n",
       "      <th>hours_per_week</th>\n",
       "    </tr>\n",
       "  </thead>\n",
       "  <tbody>\n",
       "    <tr>\n",
       "      <th>count</th>\n",
       "      <td>48813.000000</td>\n",
       "      <td>4.881300e+04</td>\n",
       "      <td>48813.000000</td>\n",
       "      <td>48813.000000</td>\n",
       "      <td>48813.000000</td>\n",
       "      <td>48813.000000</td>\n",
       "    </tr>\n",
       "    <tr>\n",
       "      <th>mean</th>\n",
       "      <td>38.647348</td>\n",
       "      <td>1.896679e+05</td>\n",
       "      <td>10.078688</td>\n",
       "      <td>1079.708705</td>\n",
       "      <td>87.554299</td>\n",
       "      <td>40.425051</td>\n",
       "    </tr>\n",
       "    <tr>\n",
       "      <th>std</th>\n",
       "      <td>13.709005</td>\n",
       "      <td>1.056062e+05</td>\n",
       "      <td>2.570257</td>\n",
       "      <td>7454.185982</td>\n",
       "      <td>403.118605</td>\n",
       "      <td>12.390954</td>\n",
       "    </tr>\n",
       "    <tr>\n",
       "      <th>min</th>\n",
       "      <td>17.000000</td>\n",
       "      <td>1.228500e+04</td>\n",
       "      <td>1.000000</td>\n",
       "      <td>0.000000</td>\n",
       "      <td>0.000000</td>\n",
       "      <td>1.000000</td>\n",
       "    </tr>\n",
       "    <tr>\n",
       "      <th>25%</th>\n",
       "      <td>28.000000</td>\n",
       "      <td>1.175550e+05</td>\n",
       "      <td>9.000000</td>\n",
       "      <td>0.000000</td>\n",
       "      <td>0.000000</td>\n",
       "      <td>40.000000</td>\n",
       "    </tr>\n",
       "    <tr>\n",
       "      <th>50%</th>\n",
       "      <td>37.000000</td>\n",
       "      <td>1.781400e+05</td>\n",
       "      <td>10.000000</td>\n",
       "      <td>0.000000</td>\n",
       "      <td>0.000000</td>\n",
       "      <td>40.000000</td>\n",
       "    </tr>\n",
       "    <tr>\n",
       "      <th>75%</th>\n",
       "      <td>48.000000</td>\n",
       "      <td>2.376200e+05</td>\n",
       "      <td>12.000000</td>\n",
       "      <td>0.000000</td>\n",
       "      <td>0.000000</td>\n",
       "      <td>45.000000</td>\n",
       "    </tr>\n",
       "    <tr>\n",
       "      <th>max</th>\n",
       "      <td>90.000000</td>\n",
       "      <td>1.490400e+06</td>\n",
       "      <td>16.000000</td>\n",
       "      <td>99999.000000</td>\n",
       "      <td>4356.000000</td>\n",
       "      <td>99.000000</td>\n",
       "    </tr>\n",
       "  </tbody>\n",
       "</table>\n",
       "</div>"
      ],
      "text/plain": [
       "                age        fnlwgt  education_num  capital_gain  capital_loss  \\\n",
       "count  48813.000000  4.881300e+04   48813.000000  48813.000000  48813.000000   \n",
       "mean      38.647348  1.896679e+05      10.078688   1079.708705     87.554299   \n",
       "std       13.709005  1.056062e+05       2.570257   7454.185982    403.118605   \n",
       "min       17.000000  1.228500e+04       1.000000      0.000000      0.000000   \n",
       "25%       28.000000  1.175550e+05       9.000000      0.000000      0.000000   \n",
       "50%       37.000000  1.781400e+05      10.000000      0.000000      0.000000   \n",
       "75%       48.000000  2.376200e+05      12.000000      0.000000      0.000000   \n",
       "max       90.000000  1.490400e+06      16.000000  99999.000000   4356.000000   \n",
       "\n",
       "       hours_per_week  \n",
       "count    48813.000000  \n",
       "mean        40.425051  \n",
       "std         12.390954  \n",
       "min          1.000000  \n",
       "25%         40.000000  \n",
       "50%         40.000000  \n",
       "75%         45.000000  \n",
       "max         99.000000  "
      ]
     },
     "execution_count": 49,
     "metadata": {},
     "output_type": "execute_result"
    }
   ],
   "source": [
    "# Summary statistics of numeric features\n",
    "df.describe()"
   ]
  },
  {
   "cell_type": "code",
   "execution_count": 58,
   "id": "232693ec",
   "metadata": {},
   "outputs": [],
   "source": [
    "# Split catgorical and numeric features\n",
    "cat_features = [col for col in df.columns if df[col].dtype == object]\n",
    "num_features = [col for col in df.columns if df[col].dtype == 'int64']"
   ]
  },
  {
   "cell_type": "code",
   "execution_count": 59,
   "id": "5178e651",
   "metadata": {
    "collapsed": true
   },
   "outputs": [
    {
     "data": {
      "text/plain": [
       "['workclass',\n",
       " 'education',\n",
       " 'marital_status',\n",
       " 'occupation',\n",
       " 'relationship',\n",
       " 'race',\n",
       " 'sex',\n",
       " 'native_country',\n",
       " 'salary']"
      ]
     },
     "execution_count": 59,
     "metadata": {},
     "output_type": "execute_result"
    }
   ],
   "source": [
    "# See categorical features\n",
    "cat_features"
   ]
  },
  {
   "cell_type": "code",
   "execution_count": 61,
   "id": "34e9718f",
   "metadata": {
    "collapsed": true
   },
   "outputs": [
    {
     "data": {
      "text/plain": [
       "['age',\n",
       " 'fnlwgt',\n",
       " 'education_num',\n",
       " 'capital_gain',\n",
       " 'capital_loss',\n",
       " 'hours_per_week']"
      ]
     },
     "execution_count": 61,
     "metadata": {},
     "output_type": "execute_result"
    }
   ],
   "source": [
    "# See numerical features\n",
    "num_features"
   ]
  },
  {
   "cell_type": "code",
   "execution_count": 87,
   "id": "e9081516",
   "metadata": {
    "collapsed": true
   },
   "outputs": [
    {
     "name": "stdout",
     "output_type": "stream",
     "text": [
      "WORKCLASS:9\n",
      " Private             33879\n",
      " Self-emp-not-inc     3861\n",
      " Local-gov            3136\n",
      " ?                    2799\n",
      " State-gov            1981\n",
      " Self-emp-inc         1694\n",
      " Federal-gov          1432\n",
      " Without-pay            21\n",
      " Never-worked           10\n",
      "Name: workclass, dtype: int64\n",
      "\n",
      "\n",
      "EDUCATION:16\n",
      " HS-grad         15777\n",
      " Some-college    10869\n",
      " Bachelors        8020\n",
      " Masters          2656\n",
      " Assoc-voc        2060\n",
      " 11th             1812\n",
      " Assoc-acdm       1601\n",
      " 10th             1389\n",
      " 7th-8th           954\n",
      " Prof-school       834\n",
      " 9th               756\n",
      " 12th              656\n",
      " Doctorate         594\n",
      " 5th-6th           508\n",
      " 1st-4th           245\n",
      " Preschool          82\n",
      "Name: education, dtype: int64\n",
      "\n",
      "\n",
      "MARITAL_STATUS:7\n",
      " Married-civ-spouse       22372\n",
      " Never-married            16098\n",
      " Divorced                  6630\n",
      " Separated                 1530\n",
      " Widowed                   1518\n",
      " Married-spouse-absent      628\n",
      " Married-AF-spouse           37\n",
      "Name: marital_status, dtype: int64\n",
      "\n",
      "\n",
      "OCCUPATION:15\n",
      " Prof-specialty       6167\n",
      " Craft-repair         6107\n",
      " Exec-managerial      6084\n",
      " Adm-clerical         5608\n",
      " Sales                5504\n",
      " Other-service        4919\n",
      " Machine-op-inspct    3019\n",
      " ?                    2809\n",
      " Transport-moving     2355\n",
      " Handlers-cleaners    2071\n",
      " Farming-fishing      1487\n",
      " Tech-support         1445\n",
      " Protective-serv       983\n",
      " Priv-house-serv       240\n",
      " Armed-Forces           15\n",
      "Name: occupation, dtype: int64\n",
      "\n",
      "\n",
      "RELATIONSHIP:6\n",
      " Husband           19709\n",
      " Not-in-family     12567\n",
      " Own-child          7576\n",
      " Unmarried          5124\n",
      " Wife               2331\n",
      " Other-relative     1506\n",
      "Name: relationship, dtype: int64\n",
      "\n",
      "\n",
      "RACE:5\n",
      " White                 41736\n",
      " Black                  4683\n",
      " Asian-Pac-Islander     1518\n",
      " Amer-Indian-Eskimo      470\n",
      " Other                   406\n",
      "Name: race, dtype: int64\n",
      "\n",
      "\n",
      "SEX:2\n",
      " Male      32631\n",
      " Female    16182\n",
      "Name: sex, dtype: int64\n",
      "\n",
      "\n",
      "NATIVE_COUNTRY:42\n",
      " United-States                 43810\n",
      " Mexico                          947\n",
      " ?                               856\n",
      " Philippines                     295\n",
      " Germany                         206\n",
      " Puerto-Rico                     184\n",
      " Canada                          182\n",
      " El-Salvador                     155\n",
      " India                           151\n",
      " Cuba                            138\n",
      " England                         127\n",
      " China                           122\n",
      " South                           115\n",
      " Jamaica                         106\n",
      " Italy                           105\n",
      " Dominican-Republic              103\n",
      " Japan                            92\n",
      " Poland                           87\n",
      " Guatemala                        86\n",
      " Vietnam                          86\n",
      " Columbia                         85\n",
      " Haiti                            75\n",
      " Portugal                         67\n",
      " Taiwan                           65\n",
      " Iran                             59\n",
      " Greece                           49\n",
      " Nicaragua                        49\n",
      " Peru                             46\n",
      " Ecuador                          45\n",
      " France                           38\n",
      " Ireland                          37\n",
      " Hong                             30\n",
      " Thailand                         30\n",
      " Cambodia                         28\n",
      " Trinadad&Tobago                  27\n",
      " Laos                             23\n",
      " Yugoslavia                       23\n",
      " Outlying-US(Guam-USVI-etc)       23\n",
      " Scotland                         21\n",
      " Honduras                         20\n",
      " Hungary                          19\n",
      " Holand-Netherlands                1\n",
      "Name: native_country, dtype: int64\n",
      "\n",
      "\n",
      "SALARY:4\n",
      " <=50K     24698\n",
      " <=50K.    12430\n",
      " >50K       7839\n",
      " >50K.      3846\n",
      "Name: salary, dtype: int64\n",
      "\n",
      "\n"
     ]
    }
   ],
   "source": [
    "# Check unique values for each categoric features\n",
    "for col in cat_features:\n",
    "    print(col.upper() + \":\" + str(df[col].nunique()))\n",
    "    print(df[col].value_counts())\n",
    "    print('\\n')\n"
   ]
  },
  {
   "cell_type": "markdown",
   "id": "120c9da3",
   "metadata": {},
   "source": [
    "**Observations :**\n",
    "* There are null values represented by '?' in the workclass, occupation and native_country features. They need to be treat as missing values."
   ]
  },
  {
   "cell_type": "code",
   "execution_count": 102,
   "id": "47282de5",
   "metadata": {},
   "outputs": [
    {
     "ename": "AttributeError",
     "evalue": "'DataFrame' object has no attribute 'str'",
     "output_type": "error",
     "traceback": [
      "\u001b[1;31m---------------------------------------------------------------------------\u001b[0m",
      "\u001b[1;31mAttributeError\u001b[0m                            Traceback (most recent call last)",
      "Input \u001b[1;32mIn [102]\u001b[0m, in \u001b[0;36m<cell line: 2>\u001b[1;34m()\u001b[0m\n\u001b[0;32m      1\u001b[0m \u001b[38;5;66;03m# Replace ? values with NaN \u001b[39;00m\n\u001b[1;32m----> 2\u001b[0m \u001b[43mdf\u001b[49m\u001b[38;5;241;43m.\u001b[39;49m\u001b[43mstr\u001b[49m\u001b[38;5;241m.\u001b[39mreplace(\u001b[38;5;124m'\u001b[39m\u001b[38;5;124m?\u001b[39m\u001b[38;5;124m'\u001b[39m, np\u001b[38;5;241m.\u001b[39mnan, inplace\u001b[38;5;241m=\u001b[39m\u001b[38;5;28;01mTrue\u001b[39;00m)\n",
      "File \u001b[1;32mC:\\ProgramData\\Anaconda3\\lib\\site-packages\\pandas\\core\\generic.py:5575\u001b[0m, in \u001b[0;36mNDFrame.__getattr__\u001b[1;34m(self, name)\u001b[0m\n\u001b[0;32m   5568\u001b[0m \u001b[38;5;28;01mif\u001b[39;00m (\n\u001b[0;32m   5569\u001b[0m     name \u001b[38;5;129;01mnot\u001b[39;00m \u001b[38;5;129;01min\u001b[39;00m \u001b[38;5;28mself\u001b[39m\u001b[38;5;241m.\u001b[39m_internal_names_set\n\u001b[0;32m   5570\u001b[0m     \u001b[38;5;129;01mand\u001b[39;00m name \u001b[38;5;129;01mnot\u001b[39;00m \u001b[38;5;129;01min\u001b[39;00m \u001b[38;5;28mself\u001b[39m\u001b[38;5;241m.\u001b[39m_metadata\n\u001b[0;32m   5571\u001b[0m     \u001b[38;5;129;01mand\u001b[39;00m name \u001b[38;5;129;01mnot\u001b[39;00m \u001b[38;5;129;01min\u001b[39;00m \u001b[38;5;28mself\u001b[39m\u001b[38;5;241m.\u001b[39m_accessors\n\u001b[0;32m   5572\u001b[0m     \u001b[38;5;129;01mand\u001b[39;00m \u001b[38;5;28mself\u001b[39m\u001b[38;5;241m.\u001b[39m_info_axis\u001b[38;5;241m.\u001b[39m_can_hold_identifiers_and_holds_name(name)\n\u001b[0;32m   5573\u001b[0m ):\n\u001b[0;32m   5574\u001b[0m     \u001b[38;5;28;01mreturn\u001b[39;00m \u001b[38;5;28mself\u001b[39m[name]\n\u001b[1;32m-> 5575\u001b[0m \u001b[38;5;28;01mreturn\u001b[39;00m \u001b[38;5;28;43mobject\u001b[39;49m\u001b[38;5;241;43m.\u001b[39;49m\u001b[38;5;21;43m__getattribute__\u001b[39;49m\u001b[43m(\u001b[49m\u001b[38;5;28;43mself\u001b[39;49m\u001b[43m,\u001b[49m\u001b[43m \u001b[49m\u001b[43mname\u001b[49m\u001b[43m)\u001b[49m\n",
      "\u001b[1;31mAttributeError\u001b[0m: 'DataFrame' object has no attribute 'str'"
     ]
    }
   ],
   "source": [
    "# Replace ? values with NaN \n",
    "df.str.replace('?', np.NaN, inplace=True)"
   ]
  },
  {
   "cell_type": "code",
   "execution_count": 101,
   "id": "64c5082b",
   "metadata": {
    "collapsed": true
   },
   "outputs": [
    {
     "name": "stdout",
     "output_type": "stream",
     "text": [
      "WORKCLASS:9\n",
      " Private             33879\n",
      " Self-emp-not-inc     3861\n",
      " Local-gov            3136\n",
      " ?                    2799\n",
      " State-gov            1981\n",
      " Self-emp-inc         1694\n",
      " Federal-gov          1432\n",
      " Without-pay            21\n",
      " Never-worked           10\n",
      "Name: workclass, dtype: int64\n",
      "\n",
      "\n",
      "EDUCATION:16\n",
      " HS-grad         15777\n",
      " Some-college    10869\n",
      " Bachelors        8020\n",
      " Masters          2656\n",
      " Assoc-voc        2060\n",
      " 11th             1812\n",
      " Assoc-acdm       1601\n",
      " 10th             1389\n",
      " 7th-8th           954\n",
      " Prof-school       834\n",
      " 9th               756\n",
      " 12th              656\n",
      " Doctorate         594\n",
      " 5th-6th           508\n",
      " 1st-4th           245\n",
      " Preschool          82\n",
      "Name: education, dtype: int64\n",
      "\n",
      "\n",
      "MARITAL_STATUS:7\n",
      " Married-civ-spouse       22372\n",
      " Never-married            16098\n",
      " Divorced                  6630\n",
      " Separated                 1530\n",
      " Widowed                   1518\n",
      " Married-spouse-absent      628\n",
      " Married-AF-spouse           37\n",
      "Name: marital_status, dtype: int64\n",
      "\n",
      "\n",
      "OCCUPATION:15\n",
      " Prof-specialty       6167\n",
      " Craft-repair         6107\n",
      " Exec-managerial      6084\n",
      " Adm-clerical         5608\n",
      " Sales                5504\n",
      " Other-service        4919\n",
      " Machine-op-inspct    3019\n",
      " ?                    2809\n",
      " Transport-moving     2355\n",
      " Handlers-cleaners    2071\n",
      " Farming-fishing      1487\n",
      " Tech-support         1445\n",
      " Protective-serv       983\n",
      " Priv-house-serv       240\n",
      " Armed-Forces           15\n",
      "Name: occupation, dtype: int64\n",
      "\n",
      "\n",
      "RELATIONSHIP:6\n",
      " Husband           19709\n",
      " Not-in-family     12567\n",
      " Own-child          7576\n",
      " Unmarried          5124\n",
      " Wife               2331\n",
      " Other-relative     1506\n",
      "Name: relationship, dtype: int64\n",
      "\n",
      "\n",
      "RACE:5\n",
      " White                 41736\n",
      " Black                  4683\n",
      " Asian-Pac-Islander     1518\n",
      " Amer-Indian-Eskimo      470\n",
      " Other                   406\n",
      "Name: race, dtype: int64\n",
      "\n",
      "\n",
      "SEX:2\n",
      " Male      32631\n",
      " Female    16182\n",
      "Name: sex, dtype: int64\n",
      "\n",
      "\n",
      "NATIVE_COUNTRY:42\n",
      " United-States                 43810\n",
      " Mexico                          947\n",
      " ?                               856\n",
      " Philippines                     295\n",
      " Germany                         206\n",
      " Puerto-Rico                     184\n",
      " Canada                          182\n",
      " El-Salvador                     155\n",
      " India                           151\n",
      " Cuba                            138\n",
      " England                         127\n",
      " China                           122\n",
      " South                           115\n",
      " Jamaica                         106\n",
      " Italy                           105\n",
      " Dominican-Republic              103\n",
      " Japan                            92\n",
      " Poland                           87\n",
      " Guatemala                        86\n",
      " Vietnam                          86\n",
      " Columbia                         85\n",
      " Haiti                            75\n",
      " Portugal                         67\n",
      " Taiwan                           65\n",
      " Iran                             59\n",
      " Greece                           49\n",
      " Nicaragua                        49\n",
      " Peru                             46\n",
      " Ecuador                          45\n",
      " France                           38\n",
      " Ireland                          37\n",
      " Hong                             30\n",
      " Thailand                         30\n",
      " Cambodia                         28\n",
      " Trinadad&Tobago                  27\n",
      " Laos                             23\n",
      " Yugoslavia                       23\n",
      " Outlying-US(Guam-USVI-etc)       23\n",
      " Scotland                         21\n",
      " Honduras                         20\n",
      " Hungary                          19\n",
      " Holand-Netherlands                1\n",
      "Name: native_country, dtype: int64\n",
      "\n",
      "\n",
      "SALARY:4\n",
      " <=50K     24698\n",
      " <=50K.    12430\n",
      " >50K       7839\n",
      " >50K.      3846\n",
      "Name: salary, dtype: int64\n",
      "\n",
      "\n"
     ]
    }
   ],
   "source": [
    "# Check unique values for each categoric features\n",
    "for col in cat_features:\n",
    "    print(col.upper() + \":\" + str(df[col].nunique()))\n",
    "    print(df[col].value_counts())\n",
    "    print('\\n')"
   ]
  },
  {
   "cell_type": "code",
   "execution_count": null,
   "id": "20723038",
   "metadata": {},
   "outputs": [],
   "source": []
  }
 ],
 "metadata": {
  "kernelspec": {
   "display_name": "Python 3 (ipykernel)",
   "language": "python",
   "name": "python3"
  },
  "language_info": {
   "codemirror_mode": {
    "name": "ipython",
    "version": 3
   },
   "file_extension": ".py",
   "mimetype": "text/x-python",
   "name": "python",
   "nbconvert_exporter": "python",
   "pygments_lexer": "ipython3",
   "version": "3.9.12"
  }
 },
 "nbformat": 4,
 "nbformat_minor": 5
}
