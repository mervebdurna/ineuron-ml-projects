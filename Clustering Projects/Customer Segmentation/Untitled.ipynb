{
 "cells": [
  {
   "cell_type": "markdown",
   "id": "e1e8fcff",
   "metadata": {},
   "source": [
    "# Mall Customer Segmentation"
   ]
  },
  {
   "cell_type": "markdown",
   "id": "1f0d8e27",
   "metadata": {},
   "source": [
    "# Table of Contents:\n",
    "1. Understanding Data\n",
    "2. Exploratory Data Analysis (EDA)\n",
    "3. Feature Engineering\n",
    "4. Modeling\n",
    "    * K-means\n",
    "    * Hierarchical Clustering\n",
    "    * DBSCAN  \n",
    "5. Conclusion"
   ]
  },
  {
   "cell_type": "markdown",
   "id": "4b39f6b4",
   "metadata": {},
   "source": [
    "# 1. Understanding Business Problem & Data"
   ]
  },
  {
   "cell_type": "markdown",
   "id": "a4755582",
   "metadata": {},
   "source": [
    "## Business Problem:\n",
    "\n",
    "You own the mall and want to understand the customers like who can be easily converge [Target Customers] \n",
    "so that the sense can be given to marketing team and plan the strategy accordingly."
   ]
  },
  {
   "cell_type": "markdown",
   "id": "e73d1bfb",
   "metadata": {},
   "source": [
    "## Dataset Attributes:\n",
    "\n",
    "CustomerID : Unique ID assigned to the customer\n",
    "\n",
    "Gender : Gender of the customer\n",
    "\n",
    "Age : Age of the customer\n",
    "\n",
    "Annual Income (k$) : Annual income of the customer\n",
    "\n",
    "Spending Score (1-1000) : Score assigned by the mall based on customer behavior and spending nature"
   ]
  },
  {
   "cell_type": "code",
   "execution_count": 46,
   "id": "f0fa729d",
   "metadata": {},
   "outputs": [],
   "source": [
    "# import libraries\n",
    "\n",
    "#basic libraries\n",
    "import pandas as pd\n",
    "import numpy as np\n",
    "\n",
    "# visualization libraries\n",
    "import matplotlib.pyplot as plt\n",
    "import seaborn as sns\n",
    "import plotly.express as px\n",
    "import plotly.graph_objs as go\n",
    "\n",
    "# sklearn\n",
    "from sklearn.preprocessing import StandardScaler\n",
    "from sklearn.cluster import KMeans\n",
    "from sklearn.metrics import silhouette_score\n",
    "\n",
    "# warnings\n",
    "import warnings \n",
    "warnings.filterwarnings('ignore')\n",
    "\n",
    "plt.style.use('seaborn-paper')\n",
    "%matplotlib inline"
   ]
  },
  {
   "cell_type": "code",
   "execution_count": 4,
   "id": "5e5544d1",
   "metadata": {},
   "outputs": [
    {
     "data": {
      "text/html": [
       "<div>\n",
       "<style scoped>\n",
       "    .dataframe tbody tr th:only-of-type {\n",
       "        vertical-align: middle;\n",
       "    }\n",
       "\n",
       "    .dataframe tbody tr th {\n",
       "        vertical-align: top;\n",
       "    }\n",
       "\n",
       "    .dataframe thead th {\n",
       "        text-align: right;\n",
       "    }\n",
       "</style>\n",
       "<table border=\"1\" class=\"dataframe\">\n",
       "  <thead>\n",
       "    <tr style=\"text-align: right;\">\n",
       "      <th></th>\n",
       "      <th>CustomerID</th>\n",
       "      <th>Genre</th>\n",
       "      <th>Age</th>\n",
       "      <th>Annual Income (k$)</th>\n",
       "      <th>Spending Score (1-100)</th>\n",
       "    </tr>\n",
       "  </thead>\n",
       "  <tbody>\n",
       "    <tr>\n",
       "      <th>0</th>\n",
       "      <td>1</td>\n",
       "      <td>Male</td>\n",
       "      <td>19</td>\n",
       "      <td>15</td>\n",
       "      <td>39</td>\n",
       "    </tr>\n",
       "    <tr>\n",
       "      <th>1</th>\n",
       "      <td>2</td>\n",
       "      <td>Male</td>\n",
       "      <td>21</td>\n",
       "      <td>15</td>\n",
       "      <td>81</td>\n",
       "    </tr>\n",
       "    <tr>\n",
       "      <th>2</th>\n",
       "      <td>3</td>\n",
       "      <td>Female</td>\n",
       "      <td>20</td>\n",
       "      <td>16</td>\n",
       "      <td>6</td>\n",
       "    </tr>\n",
       "    <tr>\n",
       "      <th>3</th>\n",
       "      <td>4</td>\n",
       "      <td>Female</td>\n",
       "      <td>23</td>\n",
       "      <td>16</td>\n",
       "      <td>77</td>\n",
       "    </tr>\n",
       "    <tr>\n",
       "      <th>4</th>\n",
       "      <td>5</td>\n",
       "      <td>Female</td>\n",
       "      <td>31</td>\n",
       "      <td>17</td>\n",
       "      <td>40</td>\n",
       "    </tr>\n",
       "  </tbody>\n",
       "</table>\n",
       "</div>"
      ],
      "text/plain": [
       "   CustomerID   Genre  Age  Annual Income (k$)  Spending Score (1-100)\n",
       "0           1    Male   19                  15                      39\n",
       "1           2    Male   21                  15                      81\n",
       "2           3  Female   20                  16                       6\n",
       "3           4  Female   23                  16                      77\n",
       "4           5  Female   31                  17                      40"
      ]
     },
     "execution_count": 4,
     "metadata": {},
     "output_type": "execute_result"
    }
   ],
   "source": [
    "# reading data\n",
    "df = pd.read_csv('https://raw.githubusercontent.com/SteffiPeTaffy/machineLearningAZ/master/Machine%20Learning%20A-Z%20Template%20Folder/Part%204%20-%20Clustering/Section%2025%20-%20Hierarchical%20Clustering/Mall_Customers.csv')\n",
    "df.head()"
   ]
  },
  {
   "cell_type": "code",
   "execution_count": 5,
   "id": "b7f665d3",
   "metadata": {},
   "outputs": [
    {
     "data": {
      "text/plain": [
       "(200, 5)"
      ]
     },
     "execution_count": 5,
     "metadata": {},
     "output_type": "execute_result"
    }
   ],
   "source": [
    "# checking size of data\n",
    "df.shape"
   ]
  },
  {
   "cell_type": "code",
   "execution_count": 6,
   "id": "938f8d61",
   "metadata": {},
   "outputs": [
    {
     "name": "stdout",
     "output_type": "stream",
     "text": [
      "<class 'pandas.core.frame.DataFrame'>\n",
      "RangeIndex: 200 entries, 0 to 199\n",
      "Data columns (total 5 columns):\n",
      " #   Column                  Non-Null Count  Dtype \n",
      "---  ------                  --------------  ----- \n",
      " 0   CustomerID              200 non-null    int64 \n",
      " 1   Genre                   200 non-null    object\n",
      " 2   Age                     200 non-null    int64 \n",
      " 3   Annual Income (k$)      200 non-null    int64 \n",
      " 4   Spending Score (1-100)  200 non-null    int64 \n",
      "dtypes: int64(4), object(1)\n",
      "memory usage: 7.9+ KB\n"
     ]
    }
   ],
   "source": [
    "df.info()"
   ]
  },
  {
   "cell_type": "code",
   "execution_count": 7,
   "id": "020d4dbf",
   "metadata": {},
   "outputs": [
    {
     "data": {
      "text/html": [
       "<div>\n",
       "<style scoped>\n",
       "    .dataframe tbody tr th:only-of-type {\n",
       "        vertical-align: middle;\n",
       "    }\n",
       "\n",
       "    .dataframe tbody tr th {\n",
       "        vertical-align: top;\n",
       "    }\n",
       "\n",
       "    .dataframe thead th {\n",
       "        text-align: right;\n",
       "    }\n",
       "</style>\n",
       "<table border=\"1\" class=\"dataframe\">\n",
       "  <thead>\n",
       "    <tr style=\"text-align: right;\">\n",
       "      <th></th>\n",
       "      <th>count</th>\n",
       "      <th>mean</th>\n",
       "      <th>std</th>\n",
       "      <th>min</th>\n",
       "      <th>25%</th>\n",
       "      <th>50%</th>\n",
       "      <th>75%</th>\n",
       "      <th>max</th>\n",
       "    </tr>\n",
       "  </thead>\n",
       "  <tbody>\n",
       "    <tr>\n",
       "      <th>CustomerID</th>\n",
       "      <td>200.0</td>\n",
       "      <td>100.50</td>\n",
       "      <td>57.879185</td>\n",
       "      <td>1.0</td>\n",
       "      <td>50.75</td>\n",
       "      <td>100.5</td>\n",
       "      <td>150.25</td>\n",
       "      <td>200.0</td>\n",
       "    </tr>\n",
       "    <tr>\n",
       "      <th>Age</th>\n",
       "      <td>200.0</td>\n",
       "      <td>38.85</td>\n",
       "      <td>13.969007</td>\n",
       "      <td>18.0</td>\n",
       "      <td>28.75</td>\n",
       "      <td>36.0</td>\n",
       "      <td>49.00</td>\n",
       "      <td>70.0</td>\n",
       "    </tr>\n",
       "    <tr>\n",
       "      <th>Annual Income (k$)</th>\n",
       "      <td>200.0</td>\n",
       "      <td>60.56</td>\n",
       "      <td>26.264721</td>\n",
       "      <td>15.0</td>\n",
       "      <td>41.50</td>\n",
       "      <td>61.5</td>\n",
       "      <td>78.00</td>\n",
       "      <td>137.0</td>\n",
       "    </tr>\n",
       "    <tr>\n",
       "      <th>Spending Score (1-100)</th>\n",
       "      <td>200.0</td>\n",
       "      <td>50.20</td>\n",
       "      <td>25.823522</td>\n",
       "      <td>1.0</td>\n",
       "      <td>34.75</td>\n",
       "      <td>50.0</td>\n",
       "      <td>73.00</td>\n",
       "      <td>99.0</td>\n",
       "    </tr>\n",
       "  </tbody>\n",
       "</table>\n",
       "</div>"
      ],
      "text/plain": [
       "                        count    mean        std   min    25%    50%     75%  \\\n",
       "CustomerID              200.0  100.50  57.879185   1.0  50.75  100.5  150.25   \n",
       "Age                     200.0   38.85  13.969007  18.0  28.75   36.0   49.00   \n",
       "Annual Income (k$)      200.0   60.56  26.264721  15.0  41.50   61.5   78.00   \n",
       "Spending Score (1-100)  200.0   50.20  25.823522   1.0  34.75   50.0   73.00   \n",
       "\n",
       "                          max  \n",
       "CustomerID              200.0  \n",
       "Age                      70.0  \n",
       "Annual Income (k$)      137.0  \n",
       "Spending Score (1-100)   99.0  "
      ]
     },
     "execution_count": 7,
     "metadata": {},
     "output_type": "execute_result"
    }
   ],
   "source": [
    "df.describe().T"
   ]
  },
  {
   "cell_type": "code",
   "execution_count": 8,
   "id": "392504d0",
   "metadata": {},
   "outputs": [
    {
     "data": {
      "text/plain": [
       "Female    56.0\n",
       "Male      44.0\n",
       "Name: Genre, dtype: float64"
      ]
     },
     "execution_count": 8,
     "metadata": {},
     "output_type": "execute_result"
    }
   ],
   "source": [
    "# checking percentage of the Genre\n",
    "df['Genre'].value_counts(normalize=True)*100"
   ]
  },
  {
   "cell_type": "markdown",
   "id": "60939949",
   "metadata": {},
   "source": [
    "**Conclusion :**\n",
    "* Dataset consist of 200 rows and 5 columns.\n",
    "* There is no missing values in the dataset.\n",
    "* Average **Age** of the customers is 38.85.\n",
    "* Average  **Annual Income (k$)** of the customers is 60.56.\n",
    "* Average **Spending Score (1-100)** of the customers is 50.20.\n",
    "* %56 of customers are Female"
   ]
  },
  {
   "cell_type": "markdown",
   "id": "83e1591d",
   "metadata": {},
   "source": [
    "# 2. Exploratory Data Analysis (EDA)"
   ]
  },
  {
   "cell_type": "code",
   "execution_count": 9,
   "id": "6a44d81c",
   "metadata": {},
   "outputs": [
    {
     "data": {
      "text/plain": [
       "Index(['CustomerID', 'Genre', 'Age', 'Annual Income (k$)',\n",
       "       'Spending Score (1-100)'],\n",
       "      dtype='object')"
      ]
     },
     "execution_count": 9,
     "metadata": {},
     "output_type": "execute_result"
    }
   ],
   "source": [
    "# get column names\n",
    "df.columns"
   ]
  },
  {
   "cell_type": "code",
   "execution_count": 10,
   "id": "1178ea5a",
   "metadata": {},
   "outputs": [],
   "source": [
    "# rename columns\n",
    "df.rename(columns={'CustomerID':'id', 'Genre':'gender', 'Age':'age', 'Annual Income (k$)':'annual_income',\n",
    "       'Spending Score (1-100)':'spending_score'}, inplace=True)"
   ]
  },
  {
   "cell_type": "code",
   "execution_count": 11,
   "id": "145794f9",
   "metadata": {},
   "outputs": [
    {
     "data": {
      "text/html": [
       "<div>\n",
       "<style scoped>\n",
       "    .dataframe tbody tr th:only-of-type {\n",
       "        vertical-align: middle;\n",
       "    }\n",
       "\n",
       "    .dataframe tbody tr th {\n",
       "        vertical-align: top;\n",
       "    }\n",
       "\n",
       "    .dataframe thead th {\n",
       "        text-align: right;\n",
       "    }\n",
       "</style>\n",
       "<table border=\"1\" class=\"dataframe\">\n",
       "  <thead>\n",
       "    <tr style=\"text-align: right;\">\n",
       "      <th></th>\n",
       "      <th>id</th>\n",
       "      <th>gender</th>\n",
       "      <th>age</th>\n",
       "      <th>annual_income</th>\n",
       "      <th>spending_score</th>\n",
       "    </tr>\n",
       "  </thead>\n",
       "  <tbody>\n",
       "    <tr>\n",
       "      <th>0</th>\n",
       "      <td>1</td>\n",
       "      <td>Male</td>\n",
       "      <td>19</td>\n",
       "      <td>15</td>\n",
       "      <td>39</td>\n",
       "    </tr>\n",
       "    <tr>\n",
       "      <th>1</th>\n",
       "      <td>2</td>\n",
       "      <td>Male</td>\n",
       "      <td>21</td>\n",
       "      <td>15</td>\n",
       "      <td>81</td>\n",
       "    </tr>\n",
       "    <tr>\n",
       "      <th>2</th>\n",
       "      <td>3</td>\n",
       "      <td>Female</td>\n",
       "      <td>20</td>\n",
       "      <td>16</td>\n",
       "      <td>6</td>\n",
       "    </tr>\n",
       "    <tr>\n",
       "      <th>3</th>\n",
       "      <td>4</td>\n",
       "      <td>Female</td>\n",
       "      <td>23</td>\n",
       "      <td>16</td>\n",
       "      <td>77</td>\n",
       "    </tr>\n",
       "    <tr>\n",
       "      <th>4</th>\n",
       "      <td>5</td>\n",
       "      <td>Female</td>\n",
       "      <td>31</td>\n",
       "      <td>17</td>\n",
       "      <td>40</td>\n",
       "    </tr>\n",
       "  </tbody>\n",
       "</table>\n",
       "</div>"
      ],
      "text/plain": [
       "   id  gender  age  annual_income  spending_score\n",
       "0   1    Male   19             15              39\n",
       "1   2    Male   21             15              81\n",
       "2   3  Female   20             16               6\n",
       "3   4  Female   23             16              77\n",
       "4   5  Female   31             17              40"
      ]
     },
     "execution_count": 11,
     "metadata": {},
     "output_type": "execute_result"
    }
   ],
   "source": [
    "df.head()"
   ]
  },
  {
   "cell_type": "code",
   "execution_count": 12,
   "id": "bc16a46e",
   "metadata": {},
   "outputs": [],
   "source": [
    "# drop useless column : id\n",
    "df.drop('id', axis=1, inplace=True)"
   ]
  },
  {
   "cell_type": "markdown",
   "id": "6784056a",
   "metadata": {},
   "source": [
    "## Univariate Analysis"
   ]
  },
  {
   "cell_type": "code",
   "execution_count": 13,
   "id": "94c8f1d4",
   "metadata": {},
   "outputs": [
    {
     "data": {
      "image/png": "[encoded data removed]",
      "text/plain": [
       "<Figure size 432x288 with 1 Axes>"
      ]
     },
     "metadata": {
      "needs_background": "light"
     },
     "output_type": "display_data"
    },
    {
     "data": {
      "image/png": "[encoded data removed]",
      "text/plain": [
       "<Figure size 432x288 with 1 Axes>"
      ]
     },
     "metadata": {
      "needs_background": "light"
     },
     "output_type": "display_data"
    },
    {
     "data": {
      "image/png": "[encoded data removed]",
      "text/plain": [
       "<Figure size 432x288 with 1 Axes>"
      ]
     },
     "metadata": {
      "needs_background": "light"
     },
     "output_type": "display_data"
    }
   ],
   "source": [
    "# check distribution of numeric columns : age, annual_income, spending_score\n",
    "for col in df.select_dtypes('number').columns:\n",
    "    sns.distplot(df[col])\n",
    "    plt.show()\n"
   ]
  },
  {
   "cell_type": "code",
   "execution_count": 14,
   "id": "d14d4ecc",
   "metadata": {
    "scrolled": true
   },
   "outputs": [
    {
     "data": {
      "text/plain": [
       "<AxesSubplot:ylabel='None'>"
      ]
     },
     "execution_count": 14,
     "metadata": {},
     "output_type": "execute_result"
    },
    {
     "data": {
      "image/png": "[encoded data removed]",
      "text/plain": [
       "<Figure size 432x288 with 1 Axes>"
      ]
     },
     "metadata": {},
     "output_type": "display_data"
    }
   ],
   "source": [
    "# visualize percentage of gender\n",
    "df.groupby('gender').size().plot(kind='pie', autopct='%.1f')"
   ]
  },
  {
   "cell_type": "code",
   "execution_count": 15,
   "id": "01d7808f",
   "metadata": {},
   "outputs": [
    {
     "data": {
      "text/plain": [
       "<AxesSubplot:xlabel='gender', ylabel='count'>"
      ]
     },
     "execution_count": 15,
     "metadata": {},
     "output_type": "execute_result"
    },
    {
     "data": {
      "image/png": "[encoded data removed]",
      "text/plain": [
       "<Figure size 432x288 with 1 Axes>"
      ]
     },
     "metadata": {
      "needs_background": "light"
     },
     "output_type": "display_data"
    }
   ],
   "source": [
    "sns.countplot(df['gender'])"
   ]
  },
  {
   "cell_type": "markdown",
   "id": "210c25e2",
   "metadata": {},
   "source": [
    "## Bivariate Analysis"
   ]
  },
  {
   "cell_type": "code",
   "execution_count": 16,
   "id": "74d02425",
   "metadata": {},
   "outputs": [
    {
     "data": {
      "image/png": "[encoded data removed]",
      "text/plain": [
       "<Figure size 1080x1800 with 6 Axes>"
      ]
     },
     "metadata": {
      "needs_background": "light"
     },
     "output_type": "display_data"
    }
   ],
   "source": [
    "num_features = ['age','annual_income','spending_score'] \n",
    "fig = plt.subplots(nrows = 3, ncols = 2, figsize = (15,25))\n",
    "for i in range(len(num_features)):\n",
    "    \n",
    "    plt.subplot(3, 2, (i * 2)  + 1)\n",
    "    ax = sns.boxplot(x = 'gender',y = num_features[i], data = df)\n",
    "    ax.set_xticklabels(['Female','Male'])\n",
    "    title = num_features[i] + ' vs gender'\n",
    "    plt.title(title)\n",
    "    \n",
    "    plt.subplot(3,2,(i * 2) + 2)\n",
    "    ax = sns.swarmplot(x = 'gender',y = num_features[i],data = df)\n",
    "    ax.set_xticklabels(['Female','Male'])\n",
    "    title = num_features[i] + ' vs gender'\n",
    "    plt.title(title)"
   ]
  },
  {
   "cell_type": "markdown",
   "id": "436e7899",
   "metadata": {},
   "source": [
    "## Multivariate Analaysis"
   ]
  },
  {
   "cell_type": "code",
   "execution_count": 17,
   "id": "3520bb37",
   "metadata": {},
   "outputs": [
    {
     "data": {
      "text/plain": [
       "<seaborn.axisgrid.PairGrid at 0x268d6ab3970>"
      ]
     },
     "execution_count": 17,
     "metadata": {},
     "output_type": "execute_result"
    },
    {
     "data": {
      "image/png": "[encoded data removed]",
      "text/plain": [
       "<Figure size 540x540 with 12 Axes>"
      ]
     },
     "metadata": {
      "needs_background": "light"
     },
     "output_type": "display_data"
    }
   ],
   "source": [
    "sns.pairplot(df)"
   ]
  },
  {
   "cell_type": "code",
   "execution_count": 18,
   "id": "b657783e",
   "metadata": {},
   "outputs": [
    {
     "data": {
      "text/plain": [
       "<AxesSubplot:>"
      ]
     },
     "execution_count": 18,
     "metadata": {},
     "output_type": "execute_result"
    },
    {
     "data": {
      "image/png": "[encoded data removed]",
      "text/plain": [
       "<Figure size 432x288 with 2 Axes>"
      ]
     },
     "metadata": {
      "needs_background": "light"
     },
     "output_type": "display_data"
    }
   ],
   "source": [
    "# visualize correlation\n",
    "sns.heatmap(df.corr(), annot=True)"
   ]
  },
  {
   "cell_type": "markdown",
   "id": "05b82151",
   "metadata": {},
   "source": [
    "# 3. Feature Engineering"
   ]
  },
  {
   "cell_type": "markdown",
   "id": "e81c6324",
   "metadata": {},
   "source": [
    "Clustering models are distance-based algorithms. In order to measure similarities between observations and form clusters they use a distance metric. \n",
    "So, features with high ranges will have a bigger influence on the clustering. Therefore, standardization is required before building a clustering model.\n",
    "\n",
    "Don't forget also that k-means results are sensitive to the order of observations, and it is worth to run algorithm several times, shuffling data in between, averaging resulting clusters and running final evaluations with those averaged clusters centers as starting points."
   ]
  },
  {
   "cell_type": "code",
   "execution_count": 31,
   "id": "ecb818f7",
   "metadata": {},
   "outputs": [],
   "source": [
    "# standardization\n",
    "ss = StandardScaler() \n",
    "\n",
    "df[['age','annual_income','spending_score']] =ss.fit_transform(df[['age','annual_income','spending_score']])"
   ]
  },
  {
   "cell_type": "code",
   "execution_count": 33,
   "id": "49ca53d3",
   "metadata": {
    "collapsed": true
   },
   "outputs": [
    {
     "data": {
      "text/html": [
       "<div>\n",
       "<style scoped>\n",
       "    .dataframe tbody tr th:only-of-type {\n",
       "        vertical-align: middle;\n",
       "    }\n",
       "\n",
       "    .dataframe tbody tr th {\n",
       "        vertical-align: top;\n",
       "    }\n",
       "\n",
       "    .dataframe thead th {\n",
       "        text-align: right;\n",
       "    }\n",
       "</style>\n",
       "<table border=\"1\" class=\"dataframe\">\n",
       "  <thead>\n",
       "    <tr style=\"text-align: right;\">\n",
       "      <th></th>\n",
       "      <th>gender</th>\n",
       "      <th>age</th>\n",
       "      <th>annual_income</th>\n",
       "      <th>spending_score</th>\n",
       "    </tr>\n",
       "  </thead>\n",
       "  <tbody>\n",
       "    <tr>\n",
       "      <th>0</th>\n",
       "      <td>Male</td>\n",
       "      <td>-1.424569</td>\n",
       "      <td>-1.738999</td>\n",
       "      <td>-0.434801</td>\n",
       "    </tr>\n",
       "    <tr>\n",
       "      <th>1</th>\n",
       "      <td>Male</td>\n",
       "      <td>-1.281035</td>\n",
       "      <td>-1.738999</td>\n",
       "      <td>1.195704</td>\n",
       "    </tr>\n",
       "    <tr>\n",
       "      <th>2</th>\n",
       "      <td>Female</td>\n",
       "      <td>-1.352802</td>\n",
       "      <td>-1.700830</td>\n",
       "      <td>-1.715913</td>\n",
       "    </tr>\n",
       "    <tr>\n",
       "      <th>3</th>\n",
       "      <td>Female</td>\n",
       "      <td>-1.137502</td>\n",
       "      <td>-1.700830</td>\n",
       "      <td>1.040418</td>\n",
       "    </tr>\n",
       "    <tr>\n",
       "      <th>4</th>\n",
       "      <td>Female</td>\n",
       "      <td>-0.563369</td>\n",
       "      <td>-1.662660</td>\n",
       "      <td>-0.395980</td>\n",
       "    </tr>\n",
       "  </tbody>\n",
       "</table>\n",
       "</div>"
      ],
      "text/plain": [
       "   gender       age  annual_income  spending_score\n",
       "0    Male -1.424569      -1.738999       -0.434801\n",
       "1    Male -1.281035      -1.738999        1.195704\n",
       "2  Female -1.352802      -1.700830       -1.715913\n",
       "3  Female -1.137502      -1.700830        1.040418\n",
       "4  Female -0.563369      -1.662660       -0.395980"
      ]
     },
     "execution_count": 33,
     "metadata": {},
     "output_type": "execute_result"
    }
   ],
   "source": [
    "df.head()"
   ]
  },
  {
   "cell_type": "code",
   "execution_count": 36,
   "id": "213eb45b",
   "metadata": {},
   "outputs": [],
   "source": [
    "X = df[['age','annual_income','spending_score']] "
   ]
  },
  {
   "cell_type": "markdown",
   "id": "9290e867",
   "metadata": {},
   "source": [
    "# 4. Modeling"
   ]
  },
  {
   "cell_type": "markdown",
   "id": "a8865274",
   "metadata": {},
   "source": [
    "## K-Means"
   ]
  },
  {
   "cell_type": "code",
   "execution_count": 50,
   "id": "f80ca442",
   "metadata": {},
   "outputs": [
    {
     "data": {
      "image/png": "[encoded data removed]",
      "text/plain": [
       "<Figure size 1440x360 with 2 Axes>"
      ]
     },
     "metadata": {
      "needs_background": "light"
     },
     "output_type": "display_data"
    }
   ],
   "source": [
    "# choose k value\n",
    "\n",
    "fig = plt.subplots(nrows = 1, ncols = 2, figsize = (20,5))\n",
    "\n",
    "# Elbow method to choose k value\n",
    "# wcss : within cluter sum of square\n",
    "wcss = []\n",
    "\n",
    "plt.subplot(1,2,1)\n",
    "for k in range(1,11):\n",
    "    kmeans = KMeans(n_clusters = k, init='k-means++')\n",
    "    kmeans.fit(X)\n",
    "    wcss.append(kmeans.inertia_)\n",
    "\n",
    "\n",
    "plt.plot(range(1, 11), wcss, linewidth = 2, marker = '8')\n",
    "plt.title('Elbow Method', fontsize = 20)\n",
    "plt.xlabel('k : Number of clusters', fontsize = 15)\n",
    "plt.ylabel('WCSS',fontsize = 15)\n",
    "\n",
    "\n",
    "# Silhouette Score method to choose k value\n",
    "silhouette_scores = []\n",
    "\n",
    "plt.subplot(1,2,2)\n",
    "for k in range(2, 11):\n",
    "    kmeans = KMeans(n_clusters = k).fit(X)\n",
    "    labels = kmeans.labels_\n",
    "    silhouette_scores.append(silhouette_score(X, labels, metric = 'euclidean'))\n",
    "    \n",
    "plt.plot(range(2, 11), silhouette_scores, linewidth = 2, marker = '8')\n",
    "plt.title('Silhouette Score Method', fontsize = 20)\n",
    "plt.xlabel('k : Number of cluster', fontsize = 15)\n",
    "plt.ylabel('Silhouette Score',fontsize = 15)\n",
    "plt.show()"
   ]
  },
  {
   "cell_type": "code",
   "execution_count": 59,
   "id": "ca0db207",
   "metadata": {},
   "outputs": [
    {
     "data": {
      "application/vnd.plotly.v1+json": {
       "config": {
        "plotlyServerURL": "https://plot.ly"
       },
       "data": [
        {
         "hovertemplate": "age=%{x}<br>annual_income=%{y}<br>spending_score=%{z}<br>size=%{marker.size}<br>color=%{marker.color}<extra></extra>",
         "legendgroup": "",
         "marker": {
          "color": [
           4,
           4,
           5,
           4,
           5,
           4,
           5,
           4,
           5,
           4,
           5,
           4,
           5,
           4,
           5,
           4,
           5,
           4,
           5,
           4,
           5,
           4,
           5,
           4,
           5,
           4,
           5,
           4,
           5,
           4,
           5,
           4,
           5,
           4,
           5,
           4,
           5,
           4,
           5,
           4,
           0,
           4,
           5,
           1,
           5,
           4,
           0,
           1,
           1,
           1,
           0,
           1,
           1,
           0,
           0,
           0,
           0,
           0,
           1,
           0,
           0,
           1,
           0,
           0,
           0,
           1,
           0,
           0,
           1,
           1,
           0,
           0,
           0,
           0,
           0,
           1,
           0,
           1,
           1,
           0,
           0,
           1,
           0,
           0,
           1,
           0,
           0,
           1,
           1,
           0,
           0,
           1,
           0,
           1,
           1,
           1,
           0,
           1,
           0,
           1,
           1,
           0,
           0,
           1,
           0,
           1,
           0,
           0,
           0,
           0,
           0,
           1,
           1,
           1,
           1,
           1,
           0,
           0,
           0,
           0,
           1,
           1,
           1,
           3,
           1,
           3,
           2,
           3,
           2,
           3,
           2,
           3,
           1,
           3,
           2,
           3,
           2,
           3,
           1,
           3,
           2,
           3,
           1,
           3,
           2,
           3,
           2,
           3,
           2,
           3,
           2,
           3,
           2,
           3,
           2,
           3,
           2,
           3,
           2,
           3,
           0,
           3,
           2,
           3,
           2,
           3,
           2,
           3,
           2,
           3,
           2,
           3,
           2,
           3,
           2,
           3,
           2,
           3,
           2,
           3,
           2,
           3,
           2,
           3,
           2,
           3,
           2,
           3,
           2,
           3,
           2,
           3,
           2,
           3,
           2,
           3,
           2,
           3,
           2,
           3
          ],
          "coloraxis": "coloraxis",
          "size": [
           4,
           4,
           5,
           4,
           5,
           4,
           5,
           4,
           5,
           4,
           5,
           4,
           5,
           4,
           5,
           4,
           5,
           4,
           5,
           4,
           5,
           4,
           5,
           4,
           5,
           4,
           5,
           4,
           5,
           4,
           5,
           4,
           5,
           4,
           5,
           4,
           5,
           4,
           5,
           4,
           0,
           4,
           5,
           1,
           5,
           4,
           0,
           1,
           1,
           1,
           0,
           1,
           1,
           0,
           0,
           0,
           0,
           0,
           1,
           0,
           0,
           1,
           0,
           0,
           0,
           1,
           0,
           0,
           1,
           1,
           0,
           0,
           0,
           0,
           0,
           1,
           0,
           1,
           1,
           0,
           0,
           1,
           0,
           0,
           1,
           0,
           0,
           1,
           1,
           0,
           0,
           1,
           0,
           1,
           1,
           1,
           0,
           1,
           0,
           1,
           1,
           0,
           0,
           1,
           0,
           1,
           0,
           0,
           0,
           0,
           0,
           1,
           1,
           1,
           1,
           1,
           0,
           0,
           0,
           0,
           1,
           1,
           1,
           3,
           1,
           3,
           2,
           3,
           2,
           3,
           2,
           3,
           1,
           3,
           2,
           3,
           2,
           3,
           1,
           3,
           2,
           3,
           1,
           3,
           2,
           3,
           2,
           3,
           2,
           3,
           2,
           3,
           2,
           3,
           2,
           3,
           2,
           3,
           2,
           3,
           0,
           3,
           2,
           3,
           2,
           3,
           2,
           3,
           2,
           3,
           2,
           3,
           2,
           3,
           2,
           3,
           2,
           3,
           2,
           3,
           2,
           3,
           2,
           3,
           2,
           3,
           2,
           3,
           2,
           3,
           2,
           3,
           2,
           3,
           2,
           3,
           2,
           3,
           2,
           3
          ],
          "sizemode": "area",
          "sizeref": 0.0125,
          "symbol": "circle"
         },
         "mode": "markers",
         "name": "",
         "scene": "scene",
         "showlegend": false,
         "type": "scatter3d",
         "x": [
          -1.4245687900521393,
          -1.2810354107017978,
          -1.3528021003769686,
          -1.1375020313514563,
          -0.5633685139500904,
          -1.209268721026627,
          -0.2763017552494073,
          -1.1375020313514563,
          1.804932245330544,
          -0.6351352036252611,
          2.0202323143560563,
          -0.2763017552494073,
          1.3743321072795196,
          -1.0657353416762856,
          -0.1327683758990658,
          -1.209268721026627,
          -0.2763017552494073,
          -1.3528021003769686,
          0.9437319692284952,
          -0.2763017552494073,
          -0.2763017552494073,
          -0.9939686520011147,
          0.5131318311774709,
          -0.5633685139500904,
          1.0872653485788366,
          -0.7069018933004318,
          0.4413651415023001,
          -0.2763017552494073,
          0.0825316931264464,
          -1.1375020313514563,
          1.517865486629861,
          -1.2810354107017978,
          1.0154986589036659,
          -1.49633547972731,
          0.7284319002029831,
          -1.2810354107017978,
          0.22606507247678792,
          -0.6351352036252611,
          -0.20453506557423654,
          -1.3528021003769686,
          1.8766989350057148,
          -1.0657353416762856,
          0.6566652105278123,
          -0.5633685139500904,
          0.7284319002029831,
          -1.0657353416762856,
          0.8001985898781538,
          -0.8504352726507733,
          -0.7069018933004318,
          -0.5633685139500904,
          0.7284319002029831,
          -0.4198351345997488,
          -0.5633685139500904,
          1.4460987969546903,
          0.8001985898781538,
          0.5848985208526416,
          0.8719652795533245,
          2.163765693706398,
          -0.8504352726507733,
          1.0154986589036659,
          2.2355323833815683,
          -1.4245687900521393,
          2.0202323143560563,
          1.0872653485788366,
          1.7331655556553733,
          -1.49633547972731,
          0.29783176215195867,
          2.091999004031227,
          -1.4245687900521393,
          -0.4916018242749195,
          2.2355323833815683,
          0.5848985208526416,
          1.517865486629861,
          1.517865486629861,
          1.4460987969546903,
          -0.922201962325944,
          0.4413651415023001,
          0.0825316931264464,
          -1.1375020313514563,
          0.7284319002029831,
          1.3025654176043489,
          -0.06100168622389507,
          2.0202323143560563,
          0.5131318311774709,
          -1.2810354107017978,
          0.6566652105278123,
          1.1590320382540074,
          -1.209268721026627,
          -0.34806844492457806,
          0.8001985898781538,
          2.091999004031227,
          -1.49633547972731,
          0.6566652105278123,
          0.0825316931264464,
          -0.4916018242749195,
          -1.0657353416762856,
          0.5848985208526416,
          -0.8504352726507733,
          0.6566652105278123,
          -1.3528021003769686,
          -1.1375020313514563,
          0.7284319002029831,
          2.0202323143560563,
          -0.922201962325944,
          0.7284319002029831,
          -1.2810354107017978,
          1.9484656246808856,
          1.0872653485788366,
          2.091999004031227,
          1.9484656246808856,
          1.8766989350057148,
          -1.4245687900521393,
          -0.06100168622389507,
          -1.4245687900521393,
          -1.49633547972731,
          -1.4245687900521393,
          1.7331655556553733,
          0.7284319002029831,
          0.8719652795533245,
          0.8001985898781538,
          -0.8504352726507733,
          -0.06100168622389507,
          0.0825316931264464,
          0.010765003451275673,
          -1.1375020313514563,
          -0.5633685139500904,
          0.29783176215195867,
          0.0825316931264464,
          1.4460987969546903,
          -0.06100168622389507,
          0.5848985208526416,
          0.010765003451275673,
          -0.9939686520011147,
          -0.5633685139500904,
          -1.3528021003769686,
          -0.7069018933004318,
          0.3695984518271294,
          -0.4916018242749195,
          -1.4245687900521393,
          -0.2763017552494073,
          1.3025654176043489,
          -0.4916018242749195,
          -0.7786685829756026,
          -0.4916018242749195,
          -0.9939686520011147,
          -0.7786685829756026,
          0.6566652105278123,
          -0.4916018242749195,
          -0.34806844492457806,
          -0.34806844492457806,
          0.29783176215195867,
          0.010765003451275673,
          0.3695984518271294,
          -0.06100168622389507,
          0.5848985208526416,
          -0.8504352726507733,
          -0.1327683758990658,
          -0.6351352036252611,
          -0.34806844492457806,
          -0.6351352036252611,
          1.230798727929178,
          -0.7069018933004318,
          -1.4245687900521393,
          -0.5633685139500904,
          0.8001985898781538,
          -0.20453506557423654,
          0.22606507247678792,
          -0.4198351345997488,
          -0.20453506557423654,
          -0.4916018242749195,
          0.0825316931264464,
          -0.7786685829756026,
          -0.20453506557423654,
          -0.20453506557423654,
          0.9437319692284952,
          -0.6351352036252611,
          1.3743321072795196,
          -0.8504352726507733,
          1.4460987969546903,
          -0.2763017552494073,
          -0.1327683758990658,
          -0.4916018242749195,
          0.5131318311774709,
          -0.7069018933004318,
          0.1542983828016172,
          -0.6351352036252611,
          1.0872653485788366,
          -0.7786685829756026,
          0.1542983828016172,
          -0.20453506557423654,
          -0.34806844492457806,
          -0.4916018242749195,
          -0.4198351345997488,
          -0.06100168622389507,
          0.5848985208526416,
          -0.2763017552494073,
          0.4413651415023001,
          -0.4916018242749195,
          -0.4916018242749195,
          -0.6351352036252611
         ],
         "y": [
          -1.7389991930659485,
          -1.7389991930659485,
          -1.7008297638941763,
          -1.7008297638941763,
          -1.6626603347224038,
          -1.6626603347224038,
          -1.6244909055506316,
          -1.6244909055506316,
          -1.5863214763788591,
          -1.5863214763788591,
          -1.5863214763788591,
          -1.5863214763788591,
          -1.5481520472070869,
          -1.5481520472070869,
          -1.5481520472070869,
          -1.5481520472070869,
          -1.5099826180353144,
          -1.5099826180353144,
          -1.4336437596917697,
          -1.4336437596917697,
          -1.3954743305199975,
          -1.3954743305199975,
          -1.357304901348225,
          -1.357304901348225,
          -1.2427966138329078,
          -1.2427966138329078,
          -1.2427966138329078,
          -1.2427966138329078,
          -1.2046271846611356,
          -1.2046271846611356,
          -1.1664577554893631,
          -1.1664577554893631,
          -1.0519494679740462,
          -1.0519494679740462,
          -1.0519494679740462,
          -1.0519494679740462,
          -1.0137800388022737,
          -1.0137800388022737,
          -0.8992717512869568,
          -0.8992717512869568,
          -0.8611023221151844,
          -0.8611023221151844,
          -0.8229328929434121,
          -0.8229328929434121,
          -0.8229328929434121,
          -0.8229328929434121,
          -0.7847634637716397,
          -0.7847634637716397,
          -0.7847634637716397,
          -0.7847634637716397,
          -0.7084246054280949,
          -0.7084246054280949,
          -0.6702551762563226,
          -0.6702551762563226,
          -0.6702551762563226,
          -0.6702551762563226,
          -0.6320857470845502,
          -0.6320857470845502,
          -0.5557468887410055,
          -0.5557468887410055,
          -0.5557468887410055,
          -0.5557468887410055,
          -0.5175774595692332,
          -0.5175774595692332,
          -0.47940803039746077,
          -0.47940803039746077,
          -0.47940803039746077,
          -0.47940803039746077,
          -0.47940803039746077,
          -0.47940803039746077,
          -0.4412386012256884,
          -0.4412386012256884,
          -0.403069172053916,
          -0.403069172053916,
          -0.2503914553668266,
          -0.2503914553668266,
          -0.2503914553668266,
          -0.2503914553668266,
          -0.2503914553668266,
          -0.2503914553668266,
          -0.2503914553668266,
          -0.2503914553668266,
          -0.2503914553668266,
          -0.2503914553668266,
          -0.2503914553668266,
          -0.2503914553668266,
          -0.13588316785150956,
          -0.13588316785150956,
          -0.09771373867973719,
          -0.09771373867973719,
          -0.05954430950796482,
          -0.05954430950796482,
          -0.021374880336192465,
          -0.021374880336192465,
          -0.021374880336192465,
          -0.021374880336192465,
          -0.021374880336192465,
          -0.021374880336192465,
          0.016794548835579896,
          0.016794548835579896,
          0.054963978007352254,
          0.054963978007352254,
          0.054963978007352254,
          0.054963978007352254,
          0.054963978007352254,
          0.054963978007352254,
          0.0931334071791246,
          0.0931334071791246,
          0.0931334071791246,
          0.0931334071791246,
          0.0931334071791246,
          0.0931334071791246,
          0.13130283635089698,
          0.13130283635089698,
          0.16947226552266934,
          0.16947226552266934,
          0.16947226552266934,
          0.16947226552266934,
          0.24581112386621404,
          0.24581112386621404,
          0.24581112386621404,
          0.24581112386621404,
          0.3221499822097588,
          0.3221499822097588,
          0.3603194113815312,
          0.3603194113815312,
          0.3984888405533035,
          0.3984888405533035,
          0.3984888405533035,
          0.3984888405533035,
          0.3984888405533035,
          0.3984888405533035,
          0.4366582697250759,
          0.4366582697250759,
          0.4748276988968482,
          0.4748276988968482,
          0.4748276988968482,
          0.4748276988968482,
          0.5129971280686206,
          0.5129971280686206,
          0.551166557240393,
          0.551166557240393,
          0.5893359864121653,
          0.5893359864121653,
          0.6275054155839377,
          0.6275054155839377,
          0.6275054155839377,
          0.6275054155839377,
          0.66567484475571,
          0.66567484475571,
          0.66567484475571,
          0.66567484475571,
          0.66567484475571,
          0.66567484475571,
          0.66567484475571,
          0.66567484475571,
          0.66567484475571,
          0.66567484475571,
          0.66567484475571,
          0.66567484475571,
          0.7038442739274824,
          0.7038442739274824,
          0.7801831322710271,
          0.7801831322710271,
          0.9328608489581165,
          0.9328608489581165,
          0.9710302781298888,
          0.9710302781298888,
          1.0091997073016614,
          1.0091997073016614,
          1.0091997073016614,
          1.0091997073016614,
          1.0091997073016614,
          1.0091997073016614,
          1.0473691364734337,
          1.0473691364734337,
          1.0473691364734337,
          1.0473691364734337,
          1.2382162823322955,
          1.2382162823322955,
          1.390893999019385,
          1.390893999019385,
          1.4290634281911574,
          1.4290634281911574,
          1.4672328573629296,
          1.4672328573629296,
          1.5435717157064743,
          1.5435717157064743,
          1.619910574050019,
          1.619910574050019,
          1.619910574050019,
          1.619910574050019,
          2.0016048657677428,
          2.0016048657677428,
          2.268790869970149,
          2.268790869970149,
          2.497807445000783,
          2.497807445000783,
          2.917671165890279,
          2.917671165890279
         ],
         "z": [
          -0.4348014799691481,
          1.1957040699151575,
          -1.7159129834496736,
          1.0404178270690332,
          -0.39597991925761705,
          1.001596266357502,
          -1.7159129834496736,
          1.7003843591650614,
          -1.832377665584267,
          0.8463100235113774,
          -1.405340497757425,
          1.894492162722717,
          -1.3665189370458939,
          1.0404178270690332,
          -1.444162058468956,
          1.1180609484920954,
          -0.5900877228152726,
          0.613380659242191,
          -0.8230170870844591,
          1.8556706020111857,
          -0.5900877228152726,
          0.8851315842229085,
          -1.7547345441612048,
          0.8851315842229085,
          -1.405340497757425,
          1.2345256306266885,
          -0.7065524049498658,
          0.41927285568453565,
          -0.7453739656613969,
          1.4286334341843439,
          -1.7935561048727358,
          0.8851315842229085,
          -1.7935561048727358,
          1.6227412377419994,
          -1.405340497757425,
          1.1957040699151575,
          -1.288875815622832,
          0.8851315842229085,
          -0.9394817692190522,
          0.9627747056459707,
          -0.5900877228152726,
          1.6227412377419994,
          -0.5512661621037415,
          0.41927285568453565,
          -0.8618386477959901,
          0.5745590985306599,
          0.18634349141534912,
          -0.1242289942768995,
          -0.3183367978345549,
          -0.3183367978345549,
          0.0698788092807559,
          0.3804512949730046,
          0.14752193070381803,
          0.3804512949730046,
          -0.20187211569996172,
          -0.35715835854608596,
          -0.0077643121423062724,
          -0.16305055498843063,
          0.031057248569224805,
          -0.16305055498843063,
          0.22516505212688018,
          0.18634349141534912,
          0.0698788092807559,
          0.3416297342614735,
          0.031057248569224805,
          0.3416297342614735,
          -0.0077643121423062724,
          -0.08540743356536842,
          0.3416297342614735,
          -0.1242289942768995,
          0.18634349141534912,
          -0.3183367978345549,
          -0.04658587285383736,
          0.22516505212688018,
          -0.1242289942768995,
          0.14752193070381803,
          0.10870036999228698,
          -0.08540743356536842,
          0.0698788092807559,
          -0.3183367978345549,
          0.031057248569224805,
          0.18634349141534912,
          -0.35715835854608596,
          -0.24069367641149278,
          0.26398661283841135,
          -0.16305055498843063,
          0.30280817354994244,
          0.18634349141534912,
          0.3804512949730046,
          -0.16305055498843063,
          0.18634349141534912,
          -0.35715835854608596,
          -0.04658587285383736,
          -0.39597991925761705,
          -0.3183367978345549,
          0.0698788092807559,
          -0.1242289942768995,
          -0.0077643121423062724,
          -0.3183367978345549,
          -0.04658587285383736,
          -0.35715835854608596,
          -0.08540743356536842,
          0.3416297342614735,
          0.18634349141534912,
          0.22516505212688018,
          -0.3183367978345549,
          -0.0077643121423062724,
          -0.16305055498843063,
          -0.2795152371230238,
          -0.08540743356536842,
          0.0698788092807559,
          0.14752193070381803,
          -0.3183367978345549,
          -0.16305055498843063,
          -0.08540743356536842,
          -0.0077643121423062724,
          -0.2795152371230238,
          0.3416297342614735,
          -0.2795152371230238,
          0.26398661283841135,
          0.22516505212688018,
          -0.39597991925761705,
          0.30280817354994244,
          1.5839196770304682,
          -0.8230170870844591,
          1.0404178270690332,
          -0.5900877228152726,
          1.7392059198765926,
          -1.5218051798920182,
          0.9627747056459707,
          -1.5994483013150804,
          0.9627747056459707,
          -0.6289092835268036,
          0.8074884627998464,
          -1.7547345441612048,
          1.467454994895875,
          -1.6770914227381426,
          0.8851315842229085,
          -1.5606267406035494,
          0.8463100235113774,
          -1.7547345441612048,
          1.6615627984535304,
          -0.39597991925761705,
          1.4286334341843439,
          -1.4829836191804873,
          1.8168490412996547,
          -0.5512661621037415,
          0.9239531449344396,
          -1.0947680120651764,
          1.5450981163189372,
          -1.288875815622832,
          1.467454994895875,
          -1.1724111334882386,
          1.001596266357502,
          -1.327697376334363,
          1.506276555607406,
          -1.9100207870073291,
          1.0792393877805642,
          -1.9100207870073291,
          0.8851315842229085,
          -0.5900877228152726,
          1.2733471913382197,
          -1.7547345441612048,
          1.6615627984535304,
          -0.9394817692190522,
          0.9627747056459707,
          -1.1724111334882386,
          1.7392059198765926,
          -0.9006602085075212,
          0.49691597710759783,
          -1.444162058468956,
          0.9627747056459707,
          -1.5606267406035494,
          1.6227412377419994,
          -1.444162058468956,
          1.3898118734728129,
          -1.3665189370458939,
          0.7298453413767843,
          -1.405340497757425,
          1.5450981163189372,
          -0.7065524049498658,
          1.3898118734728129,
          -1.3665189370458939,
          1.467454994895875,
          -0.4348014799691481,
          1.8168490412996547,
          -1.0171248906421142,
          0.6910237806652532,
          -1.288875815622832,
          1.3509903127612817,
          -1.0559464513536454,
          0.7298453413767843,
          -1.6382698620266116,
          1.5839196770304682,
          -1.327697376334363,
          1.1180609484920954,
          -0.8618386477959901,
          0.9239531449344396,
          -1.2500542549113007,
          1.2733471913382197
         ]
        }
       ],
       "layout": {
        "coloraxis": {
         "colorbar": {
          "title": {
           "text": "color"
          }
         },
         "colorscale": [
          [
           0,
           "#0d0887"
          ],
          [
           0.1111111111111111,
           "#46039f"
          ],
          [
           0.2222222222222222,
           "#7201a8"
          ],
          [
           0.3333333333333333,
           "#9c179e"
          ],
          [
           0.4444444444444444,
           "#bd3786"
          ],
          [
           0.5555555555555556,
           "#d8576b"
          ],
          [
           0.6666666666666666,
           "#ed7953"
          ],
          [
           0.7777777777777778,
           "#fb9f3a"
          ],
          [
           0.8888888888888888,
           "#fdca26"
          ],
          [
           1,
           "#f0f921"
          ]
         ]
        },
        "legend": {
         "itemsizing": "constant",
         "tracegroupgap": 0
        },
        "margin": {
         "t": 60
        },
        "scene": {
         "domain": {
          "x": [
           0,
           1
          ],
          "y": [
           0,
           1
          ]
         },
         "xaxis": {
          "title": {
           "text": "age"
          }
         },
         "yaxis": {
          "title": {
           "text": "annual_income"
          }
         },
         "zaxis": {
          "title": {
           "text": "spending_score"
          }
         }
        },
        "template": {
         "data": {
          "bar": [
           {
            "error_x": {
             "color": "#2a3f5f"
            },
            "error_y": {
             "color": "#2a3f5f"
            },
            "marker": {
             "line": {
              "color": "#E5ECF6",
              "width": 0.5
             },
             "pattern": {
              "fillmode": "overlay",
              "size": 10,
              "solidity": 0.2
             }
            },
            "type": "bar"
           }
          ],
          "barpolar": [
           {
            "marker": {
             "line": {
              "color": "#E5ECF6",
              "width": 0.5
             },
             "pattern": {
              "fillmode": "overlay",
              "size": 10,
              "solidity": 0.2
             }
            },
            "type": "barpolar"
           }
          ],
          "carpet": [
           {
            "aaxis": {
             "endlinecolor": "#2a3f5f",
             "gridcolor": "white",
             "linecolor": "white",
             "minorgridcolor": "white",
             "startlinecolor": "#2a3f5f"
            },
            "baxis": {
             "endlinecolor": "#2a3f5f",
             "gridcolor": "white",
             "linecolor": "white",
             "minorgridcolor": "white",
             "startlinecolor": "#2a3f5f"
            },
            "type": "carpet"
           }
          ],
          "choropleth": [
           {
            "colorbar": {
             "outlinewidth": 0,
             "ticks": ""
            },
            "type": "choropleth"
           }
          ],
          "contour": [
           {
            "colorbar": {
             "outlinewidth": 0,
             "ticks": ""
            },
            "colorscale": [
             [
              0,
              "#0d0887"
             ],
             [
              0.1111111111111111,
              "#46039f"
             ],
             [
              0.2222222222222222,
              "#7201a8"
             ],
             [
              0.3333333333333333,
              "#9c179e"
             ],
             [
              0.4444444444444444,
              "#bd3786"
             ],
             [
              0.5555555555555556,
              "#d8576b"
             ],
             [
              0.6666666666666666,
              "#ed7953"
             ],
             [
              0.7777777777777778,
              "#fb9f3a"
             ],
             [
              0.8888888888888888,
              "#fdca26"
             ],
             [
              1,
              "#f0f921"
             ]
            ],
            "type": "contour"
           }
          ],
          "contourcarpet": [
           {
            "colorbar": {
             "outlinewidth": 0,
             "ticks": ""
            },
            "type": "contourcarpet"
           }
          ],
          "heatmap": [
           {
            "colorbar": {
             "outlinewidth": 0,
             "ticks": ""
            },
            "colorscale": [
             [
              0,
              "#0d0887"
             ],
             [
              0.1111111111111111,
              "#46039f"
             ],
             [
              0.2222222222222222,
              "#7201a8"
             ],
             [
              0.3333333333333333,
              "#9c179e"
             ],
             [
              0.4444444444444444,
              "#bd3786"
             ],
             [
              0.5555555555555556,
              "#d8576b"
             ],
             [
              0.6666666666666666,
              "#ed7953"
             ],
             [
              0.7777777777777778,
              "#fb9f3a"
             ],
             [
              0.8888888888888888,
              "#fdca26"
             ],
             [
              1,
              "#f0f921"
             ]
            ],
            "type": "heatmap"
           }
          ],
          "heatmapgl": [
           {
            "colorbar": {
             "outlinewidth": 0,
             "ticks": ""
            },
            "colorscale": [
             [
              0,
              "#0d0887"
             ],
             [
              0.1111111111111111,
              "#46039f"
             ],
             [
              0.2222222222222222,
              "#7201a8"
             ],
             [
              0.3333333333333333,
              "#9c179e"
             ],
             [
              0.4444444444444444,
              "#bd3786"
             ],
             [
              0.5555555555555556,
              "#d8576b"
             ],
             [
              0.6666666666666666,
              "#ed7953"
             ],
             [
              0.7777777777777778,
              "#fb9f3a"
             ],
             [
              0.8888888888888888,
              "#fdca26"
             ],
             [
              1,
              "#f0f921"
             ]
            ],
            "type": "heatmapgl"
           }
          ],
          "histogram": [
           {
            "marker": {
             "pattern": {
              "fillmode": "overlay",
              "size": 10,
              "solidity": 0.2
             }
            },
            "type": "histogram"
           }
          ],
          "histogram2d": [
           {
            "colorbar": {
             "outlinewidth": 0,
             "ticks": ""
            },
            "colorscale": [
             [
              0,
              "#0d0887"
             ],
             [
              0.1111111111111111,
              "#46039f"
             ],
             [
              0.2222222222222222,
              "#7201a8"
             ],
             [
              0.3333333333333333,
              "#9c179e"
             ],
             [
              0.4444444444444444,
              "#bd3786"
             ],
             [
              0.5555555555555556,
              "#d8576b"
             ],
             [
              0.6666666666666666,
              "#ed7953"
             ],
             [
              0.7777777777777778,
              "#fb9f3a"
             ],
             [
              0.8888888888888888,
              "#fdca26"
             ],
             [
              1,
              "#f0f921"
             ]
            ],
            "type": "histogram2d"
           }
          ],
          "histogram2dcontour": [
           {
            "colorbar": {
             "outlinewidth": 0,
             "ticks": ""
            },
            "colorscale": [
             [
              0,
              "#0d0887"
             ],
             [
              0.1111111111111111,
              "#46039f"
             ],
             [
              0.2222222222222222,
              "#7201a8"
             ],
             [
              0.3333333333333333,
              "#9c179e"
             ],
             [
              0.4444444444444444,
              "#bd3786"
             ],
             [
              0.5555555555555556,
              "#d8576b"
             ],
             [
              0.6666666666666666,
              "#ed7953"
             ],
             [
              0.7777777777777778,
              "#fb9f3a"
             ],
             [
              0.8888888888888888,
              "#fdca26"
             ],
             [
              1,
              "#f0f921"
             ]
            ],
            "type": "histogram2dcontour"
           }
          ],
          "mesh3d": [
           {
            "colorbar": {
             "outlinewidth": 0,
             "ticks": ""
            },
            "type": "mesh3d"
           }
          ],
          "parcoords": [
           {
            "line": {
             "colorbar": {
              "outlinewidth": 0,
              "ticks": ""
             }
            },
            "type": "parcoords"
           }
          ],
          "pie": [
           {
            "automargin": true,
            "type": "pie"
           }
          ],
          "scatter": [
           {
            "marker": {
             "colorbar": {
              "outlinewidth": 0,
              "ticks": ""
             }
            },
            "type": "scatter"
           }
          ],
          "scatter3d": [
           {
            "line": {
             "colorbar": {
              "outlinewidth": 0,
              "ticks": ""
             }
            },
            "marker": {
             "colorbar": {
              "outlinewidth": 0,
              "ticks": ""
             }
            },
            "type": "scatter3d"
           }
          ],
          "scattercarpet": [
           {
            "marker": {
             "colorbar": {
              "outlinewidth": 0,
              "ticks": ""
             }
            },
            "type": "scattercarpet"
           }
          ],
          "scattergeo": [
           {
            "marker": {
             "colorbar": {
              "outlinewidth": 0,
              "ticks": ""
             }
            },
            "type": "scattergeo"
           }
          ],
          "scattergl": [
           {
            "marker": {
             "colorbar": {
              "outlinewidth": 0,
              "ticks": ""
             }
            },
            "type": "scattergl"
           }
          ],
          "scattermapbox": [
           {
            "marker": {
             "colorbar": {
              "outlinewidth": 0,
              "ticks": ""
             }
            },
            "type": "scattermapbox"
           }
          ],
          "scatterpolar": [
           {
            "marker": {
             "colorbar": {
              "outlinewidth": 0,
              "ticks": ""
             }
            },
            "type": "scatterpolar"
           }
          ],
          "scatterpolargl": [
           {
            "marker": {
             "colorbar": {
              "outlinewidth": 0,
              "ticks": ""
             }
            },
            "type": "scatterpolargl"
           }
          ],
          "scatterternary": [
           {
            "marker": {
             "colorbar": {
              "outlinewidth": 0,
              "ticks": ""
             }
            },
            "type": "scatterternary"
           }
          ],
          "surface": [
           {
            "colorbar": {
             "outlinewidth": 0,
             "ticks": ""
            },
            "colorscale": [
             [
              0,
              "#0d0887"
             ],
             [
              0.1111111111111111,
              "#46039f"
             ],
             [
              0.2222222222222222,
              "#7201a8"
             ],
             [
              0.3333333333333333,
              "#9c179e"
             ],
             [
              0.4444444444444444,
              "#bd3786"
             ],
             [
              0.5555555555555556,
              "#d8576b"
             ],
             [
              0.6666666666666666,
              "#ed7953"
             ],
             [
              0.7777777777777778,
              "#fb9f3a"
             ],
             [
              0.8888888888888888,
              "#fdca26"
             ],
             [
              1,
              "#f0f921"
             ]
            ],
            "type": "surface"
           }
          ],
          "table": [
           {
            "cells": {
             "fill": {
              "color": "#EBF0F8"
             },
             "line": {
              "color": "white"
             }
            },
            "header": {
             "fill": {
              "color": "#C8D4E3"
             },
             "line": {
              "color": "white"
             }
            },
            "type": "table"
           }
          ]
         },
         "layout": {
          "annotationdefaults": {
           "arrowcolor": "#2a3f5f",
           "arrowhead": 0,
           "arrowwidth": 1
          },
          "autotypenumbers": "strict",
          "coloraxis": {
           "colorbar": {
            "outlinewidth": 0,
            "ticks": ""
           }
          },
          "colorscale": {
           "diverging": [
            [
             0,
             "#8e0152"
            ],
            [
             0.1,
             "#c51b7d"
            ],
            [
             0.2,
             "#de77ae"
            ],
            [
             0.3,
             "#f1b6da"
            ],
            [
             0.4,
             "#fde0ef"
            ],
            [
             0.5,
             "#f7f7f7"
            ],
            [
             0.6,
             "#e6f5d0"
            ],
            [
             0.7,
             "#b8e186"
            ],
            [
             0.8,
             "#7fbc41"
            ],
            [
             0.9,
             "#4d9221"
            ],
            [
             1,
             "#276419"
            ]
           ],
           "sequential": [
            [
             0,
             "#0d0887"
            ],
            [
             0.1111111111111111,
             "#46039f"
            ],
            [
             0.2222222222222222,
             "#7201a8"
            ],
            [
             0.3333333333333333,
             "#9c179e"
            ],
            [
             0.4444444444444444,
             "#bd3786"
            ],
            [
             0.5555555555555556,
             "#d8576b"
            ],
            [
             0.6666666666666666,
             "#ed7953"
            ],
            [
             0.7777777777777778,
             "#fb9f3a"
            ],
            [
             0.8888888888888888,
             "#fdca26"
            ],
            [
             1,
             "#f0f921"
            ]
           ],
           "sequentialminus": [
            [
             0,
             "#0d0887"
            ],
            [
             0.1111111111111111,
             "#46039f"
            ],
            [
             0.2222222222222222,
             "#7201a8"
            ],
            [
             0.3333333333333333,
             "#9c179e"
            ],
            [
             0.4444444444444444,
             "#bd3786"
            ],
            [
             0.5555555555555556,
             "#d8576b"
            ],
            [
             0.6666666666666666,
             "#ed7953"
            ],
            [
             0.7777777777777778,
             "#fb9f3a"
            ],
            [
             0.8888888888888888,
             "#fdca26"
            ],
            [
             1,
             "#f0f921"
            ]
           ]
          },
          "colorway": [
           "#636efa",
           "#EF553B",
           "#00cc96",
           "#ab63fa",
           "#FFA15A",
           "#19d3f3",
           "#FF6692",
           "#B6E880",
           "#FF97FF",
           "#FECB52"
          ],
          "font": {
           "color": "#2a3f5f"
          },
          "geo": {
           "bgcolor": "white",
           "lakecolor": "white",
           "landcolor": "#E5ECF6",
           "showlakes": true,
           "showland": true,
           "subunitcolor": "white"
          },
          "hoverlabel": {
           "align": "left"
          },
          "hovermode": "closest",
          "mapbox": {
           "style": "light"
          },
          "paper_bgcolor": "white",
          "plot_bgcolor": "#E5ECF6",
          "polar": {
           "angularaxis": {
            "gridcolor": "white",
            "linecolor": "white",
            "ticks": ""
           },
           "bgcolor": "#E5ECF6",
           "radialaxis": {
            "gridcolor": "white",
            "linecolor": "white",
            "ticks": ""
           }
          },
          "scene": {
           "xaxis": {
            "backgroundcolor": "#E5ECF6",
            "gridcolor": "white",
            "gridwidth": 2,
            "linecolor": "white",
            "showbackground": true,
            "ticks": "",
            "zerolinecolor": "white"
           },
           "yaxis": {
            "backgroundcolor": "#E5ECF6",
            "gridcolor": "white",
            "gridwidth": 2,
            "linecolor": "white",
            "showbackground": true,
            "ticks": "",
            "zerolinecolor": "white"
           },
           "zaxis": {
            "backgroundcolor": "#E5ECF6",
            "gridcolor": "white",
            "gridwidth": 2,
            "linecolor": "white",
            "showbackground": true,
            "ticks": "",
            "zerolinecolor": "white"
           }
          },
          "shapedefaults": {
           "line": {
            "color": "#2a3f5f"
           }
          },
          "ternary": {
           "aaxis": {
            "gridcolor": "white",
            "linecolor": "white",
            "ticks": ""
           },
           "baxis": {
            "gridcolor": "white",
            "linecolor": "white",
            "ticks": ""
           },
           "bgcolor": "#E5ECF6",
           "caxis": {
            "gridcolor": "white",
            "linecolor": "white",
            "ticks": ""
           }
          },
          "title": {
           "x": 0.05
          },
          "xaxis": {
           "automargin": true,
           "gridcolor": "white",
           "linecolor": "white",
           "ticks": "",
           "title": {
            "standoff": 15
           },
           "zerolinecolor": "white",
           "zerolinewidth": 2
          },
          "yaxis": {
           "automargin": true,
           "gridcolor": "white",
           "linecolor": "white",
           "ticks": "",
           "title": {
            "standoff": 15
           },
           "zerolinecolor": "white",
           "zerolinewidth": 2
          }
         }
        }
       }
      },
      "text/html": [
       "<div>                            <div id=\"0aa4ae45-485c-4756-9990-743f09e54b3f\" class=\"plotly-graph-div\" style=\"height:525px; width:100%;\"></div>            <script type=\"text/javascript\">                require([\"plotly\"], function(Plotly) {                    window.PLOTLYENV=window.PLOTLYENV || {};                                    if (document.getElementById(\"0aa4ae45-485c-4756-9990-743f09e54b3f\")) {                    Plotly.newPlot(                        \"0aa4ae45-485c-4756-9990-743f09e54b3f\",                        [{\"hovertemplate\":\"age=%{x}<br>annual_income=%{y}<br>spending_score=%{z}<br>size=%{marker.size}<br>color=%{marker.color}<extra></extra>\",\"legendgroup\":\"\",\"marker\":{\"color\":[4,4,5,4,5,4,5,4,5,4,5,4,5,4,5,4,5,4,5,4,5,4,5,4,5,4,5,4,5,4,5,4,5,4,5,4,5,4,5,4,0,4,5,1,5,4,0,1,1,1,0,1,1,0,0,0,0,0,1,0,0,1,0,0,0,1,0,0,1,1,0,0,0,0,0,1,0,1,1,0,0,1,0,0,1,0,0,1,1,0,0,1,0,1,1,1,0,1,0,1,1,0,0,1,0,1,0,0,0,0,0,1,1,1,1,1,0,0,0,0,1,1,1,3,1,3,2,3,2,3,2,3,1,3,2,3,2,3,1,3,2,3,1,3,2,3,2,3,2,3,2,3,2,3,2,3,2,3,2,3,0,3,2,3,2,3,2,3,2,3,2,3,2,3,2,3,2,3,2,3,2,3,2,3,2,3,2,3,2,3,2,3,2,3,2,3,2,3,2,3],\"coloraxis\":\"coloraxis\",\"size\":[4,4,5,4,5,4,5,4,5,4,5,4,5,4,5,4,5,4,5,4,5,4,5,4,5,4,5,4,5,4,5,4,5,4,5,4,5,4,5,4,0,4,5,1,5,4,0,1,1,1,0,1,1,0,0,0,0,0,1,0,0,1,0,0,0,1,0,0,1,1,0,0,0,0,0,1,0,1,1,0,0,1,0,0,1,0,0,1,1,0,0,1,0,1,1,1,0,1,0,1,1,0,0,1,0,1,0,0,0,0,0,1,1,1,1,1,0,0,0,0,1,1,1,3,1,3,2,3,2,3,2,3,1,3,2,3,2,3,1,3,2,3,1,3,2,3,2,3,2,3,2,3,2,3,2,3,2,3,2,3,0,3,2,3,2,3,2,3,2,3,2,3,2,3,2,3,2,3,2,3,2,3,2,3,2,3,2,3,2,3,2,3,2,3,2,3,2,3,2,3],\"sizemode\":\"area\",\"sizeref\":0.0125,\"symbol\":\"circle\"},\"mode\":\"markers\",\"name\":\"\",\"scene\":\"scene\",\"showlegend\":false,\"x\":[-1.4245687900521393,-1.2810354107017978,-1.3528021003769686,-1.1375020313514563,-0.5633685139500904,-1.209268721026627,-0.2763017552494073,-1.1375020313514563,1.804932245330544,-0.6351352036252611,2.0202323143560563,-0.2763017552494073,1.3743321072795196,-1.0657353416762856,-0.1327683758990658,-1.209268721026627,-0.2763017552494073,-1.3528021003769686,0.9437319692284952,-0.2763017552494073,-0.2763017552494073,-0.9939686520011147,0.5131318311774709,-0.5633685139500904,1.0872653485788366,-0.7069018933004318,0.4413651415023001,-0.2763017552494073,0.0825316931264464,-1.1375020313514563,1.517865486629861,-1.2810354107017978,1.0154986589036659,-1.49633547972731,0.7284319002029831,-1.2810354107017978,0.22606507247678792,-0.6351352036252611,-0.20453506557423654,-1.3528021003769686,1.8766989350057148,-1.0657353416762856,0.6566652105278123,-0.5633685139500904,0.7284319002029831,-1.0657353416762856,0.8001985898781538,-0.8504352726507733,-0.7069018933004318,-0.5633685139500904,0.7284319002029831,-0.4198351345997488,-0.5633685139500904,1.4460987969546903,0.8001985898781538,0.5848985208526416,0.8719652795533245,2.163765693706398,-0.8504352726507733,1.0154986589036659,2.2355323833815683,-1.4245687900521393,2.0202323143560563,1.0872653485788366,1.7331655556553733,-1.49633547972731,0.29783176215195867,2.091999004031227,-1.4245687900521393,-0.4916018242749195,2.2355323833815683,0.5848985208526416,1.517865486629861,1.517865486629861,1.4460987969546903,-0.922201962325944,0.4413651415023001,0.0825316931264464,-1.1375020313514563,0.7284319002029831,1.3025654176043489,-0.06100168622389507,2.0202323143560563,0.5131318311774709,-1.2810354107017978,0.6566652105278123,1.1590320382540074,-1.209268721026627,-0.34806844492457806,0.8001985898781538,2.091999004031227,-1.49633547972731,0.6566652105278123,0.0825316931264464,-0.4916018242749195,-1.0657353416762856,0.5848985208526416,-0.8504352726507733,0.6566652105278123,-1.3528021003769686,-1.1375020313514563,0.7284319002029831,2.0202323143560563,-0.922201962325944,0.7284319002029831,-1.2810354107017978,1.9484656246808856,1.0872653485788366,2.091999004031227,1.9484656246808856,1.8766989350057148,-1.4245687900521393,-0.06100168622389507,-1.4245687900521393,-1.49633547972731,-1.4245687900521393,1.7331655556553733,0.7284319002029831,0.8719652795533245,0.8001985898781538,-0.8504352726507733,-0.06100168622389507,0.0825316931264464,0.010765003451275673,-1.1375020313514563,-0.5633685139500904,0.29783176215195867,0.0825316931264464,1.4460987969546903,-0.06100168622389507,0.5848985208526416,0.010765003451275673,-0.9939686520011147,-0.5633685139500904,-1.3528021003769686,-0.7069018933004318,0.3695984518271294,-0.4916018242749195,-1.4245687900521393,-0.2763017552494073,1.3025654176043489,-0.4916018242749195,-0.7786685829756026,-0.4916018242749195,-0.9939686520011147,-0.7786685829756026,0.6566652105278123,-0.4916018242749195,-0.34806844492457806,-0.34806844492457806,0.29783176215195867,0.010765003451275673,0.3695984518271294,-0.06100168622389507,0.5848985208526416,-0.8504352726507733,-0.1327683758990658,-0.6351352036252611,-0.34806844492457806,-0.6351352036252611,1.230798727929178,-0.7069018933004318,-1.4245687900521393,-0.5633685139500904,0.8001985898781538,-0.20453506557423654,0.22606507247678792,-0.4198351345997488,-0.20453506557423654,-0.4916018242749195,0.0825316931264464,-0.7786685829756026,-0.20453506557423654,-0.20453506557423654,0.9437319692284952,-0.6351352036252611,1.3743321072795196,-0.8504352726507733,1.4460987969546903,-0.2763017552494073,-0.1327683758990658,-0.4916018242749195,0.5131318311774709,-0.7069018933004318,0.1542983828016172,-0.6351352036252611,1.0872653485788366,-0.7786685829756026,0.1542983828016172,-0.20453506557423654,-0.34806844492457806,-0.4916018242749195,-0.4198351345997488,-0.06100168622389507,0.5848985208526416,-0.2763017552494073,0.4413651415023001,-0.4916018242749195,-0.4916018242749195,-0.6351352036252611],\"y\":[-1.7389991930659485,-1.7389991930659485,-1.7008297638941763,-1.7008297638941763,-1.6626603347224038,-1.6626603347224038,-1.6244909055506316,-1.6244909055506316,-1.5863214763788591,-1.5863214763788591,-1.5863214763788591,-1.5863214763788591,-1.5481520472070869,-1.5481520472070869,-1.5481520472070869,-1.5481520472070869,-1.5099826180353144,-1.5099826180353144,-1.4336437596917697,-1.4336437596917697,-1.3954743305199975,-1.3954743305199975,-1.357304901348225,-1.357304901348225,-1.2427966138329078,-1.2427966138329078,-1.2427966138329078,-1.2427966138329078,-1.2046271846611356,-1.2046271846611356,-1.1664577554893631,-1.1664577554893631,-1.0519494679740462,-1.0519494679740462,-1.0519494679740462,-1.0519494679740462,-1.0137800388022737,-1.0137800388022737,-0.8992717512869568,-0.8992717512869568,-0.8611023221151844,-0.8611023221151844,-0.8229328929434121,-0.8229328929434121,-0.8229328929434121,-0.8229328929434121,-0.7847634637716397,-0.7847634637716397,-0.7847634637716397,-0.7847634637716397,-0.7084246054280949,-0.7084246054280949,-0.6702551762563226,-0.6702551762563226,-0.6702551762563226,-0.6702551762563226,-0.6320857470845502,-0.6320857470845502,-0.5557468887410055,-0.5557468887410055,-0.5557468887410055,-0.5557468887410055,-0.5175774595692332,-0.5175774595692332,-0.47940803039746077,-0.47940803039746077,-0.47940803039746077,-0.47940803039746077,-0.47940803039746077,-0.47940803039746077,-0.4412386012256884,-0.4412386012256884,-0.403069172053916,-0.403069172053916,-0.2503914553668266,-0.2503914553668266,-0.2503914553668266,-0.2503914553668266,-0.2503914553668266,-0.2503914553668266,-0.2503914553668266,-0.2503914553668266,-0.2503914553668266,-0.2503914553668266,-0.2503914553668266,-0.2503914553668266,-0.13588316785150956,-0.13588316785150956,-0.09771373867973719,-0.09771373867973719,-0.05954430950796482,-0.05954430950796482,-0.021374880336192465,-0.021374880336192465,-0.021374880336192465,-0.021374880336192465,-0.021374880336192465,-0.021374880336192465,0.016794548835579896,0.016794548835579896,0.054963978007352254,0.054963978007352254,0.054963978007352254,0.054963978007352254,0.054963978007352254,0.054963978007352254,0.0931334071791246,0.0931334071791246,0.0931334071791246,0.0931334071791246,0.0931334071791246,0.0931334071791246,0.13130283635089698,0.13130283635089698,0.16947226552266934,0.16947226552266934,0.16947226552266934,0.16947226552266934,0.24581112386621404,0.24581112386621404,0.24581112386621404,0.24581112386621404,0.3221499822097588,0.3221499822097588,0.3603194113815312,0.3603194113815312,0.3984888405533035,0.3984888405533035,0.3984888405533035,0.3984888405533035,0.3984888405533035,0.3984888405533035,0.4366582697250759,0.4366582697250759,0.4748276988968482,0.4748276988968482,0.4748276988968482,0.4748276988968482,0.5129971280686206,0.5129971280686206,0.551166557240393,0.551166557240393,0.5893359864121653,0.5893359864121653,0.6275054155839377,0.6275054155839377,0.6275054155839377,0.6275054155839377,0.66567484475571,0.66567484475571,0.66567484475571,0.66567484475571,0.66567484475571,0.66567484475571,0.66567484475571,0.66567484475571,0.66567484475571,0.66567484475571,0.66567484475571,0.66567484475571,0.7038442739274824,0.7038442739274824,0.7801831322710271,0.7801831322710271,0.9328608489581165,0.9328608489581165,0.9710302781298888,0.9710302781298888,1.0091997073016614,1.0091997073016614,1.0091997073016614,1.0091997073016614,1.0091997073016614,1.0091997073016614,1.0473691364734337,1.0473691364734337,1.0473691364734337,1.0473691364734337,1.2382162823322955,1.2382162823322955,1.390893999019385,1.390893999019385,1.4290634281911574,1.4290634281911574,1.4672328573629296,1.4672328573629296,1.5435717157064743,1.5435717157064743,1.619910574050019,1.619910574050019,1.619910574050019,1.619910574050019,2.0016048657677428,2.0016048657677428,2.268790869970149,2.268790869970149,2.497807445000783,2.497807445000783,2.917671165890279,2.917671165890279],\"z\":[-0.4348014799691481,1.1957040699151575,-1.7159129834496736,1.0404178270690332,-0.39597991925761705,1.001596266357502,-1.7159129834496736,1.7003843591650614,-1.832377665584267,0.8463100235113774,-1.405340497757425,1.894492162722717,-1.3665189370458939,1.0404178270690332,-1.444162058468956,1.1180609484920954,-0.5900877228152726,0.613380659242191,-0.8230170870844591,1.8556706020111857,-0.5900877228152726,0.8851315842229085,-1.7547345441612048,0.8851315842229085,-1.405340497757425,1.2345256306266885,-0.7065524049498658,0.41927285568453565,-0.7453739656613969,1.4286334341843439,-1.7935561048727358,0.8851315842229085,-1.7935561048727358,1.6227412377419994,-1.405340497757425,1.1957040699151575,-1.288875815622832,0.8851315842229085,-0.9394817692190522,0.9627747056459707,-0.5900877228152726,1.6227412377419994,-0.5512661621037415,0.41927285568453565,-0.8618386477959901,0.5745590985306599,0.18634349141534912,-0.1242289942768995,-0.3183367978345549,-0.3183367978345549,0.0698788092807559,0.3804512949730046,0.14752193070381803,0.3804512949730046,-0.20187211569996172,-0.35715835854608596,-0.0077643121423062724,-0.16305055498843063,0.031057248569224805,-0.16305055498843063,0.22516505212688018,0.18634349141534912,0.0698788092807559,0.3416297342614735,0.031057248569224805,0.3416297342614735,-0.0077643121423062724,-0.08540743356536842,0.3416297342614735,-0.1242289942768995,0.18634349141534912,-0.3183367978345549,-0.04658587285383736,0.22516505212688018,-0.1242289942768995,0.14752193070381803,0.10870036999228698,-0.08540743356536842,0.0698788092807559,-0.3183367978345549,0.031057248569224805,0.18634349141534912,-0.35715835854608596,-0.24069367641149278,0.26398661283841135,-0.16305055498843063,0.30280817354994244,0.18634349141534912,0.3804512949730046,-0.16305055498843063,0.18634349141534912,-0.35715835854608596,-0.04658587285383736,-0.39597991925761705,-0.3183367978345549,0.0698788092807559,-0.1242289942768995,-0.0077643121423062724,-0.3183367978345549,-0.04658587285383736,-0.35715835854608596,-0.08540743356536842,0.3416297342614735,0.18634349141534912,0.22516505212688018,-0.3183367978345549,-0.0077643121423062724,-0.16305055498843063,-0.2795152371230238,-0.08540743356536842,0.0698788092807559,0.14752193070381803,-0.3183367978345549,-0.16305055498843063,-0.08540743356536842,-0.0077643121423062724,-0.2795152371230238,0.3416297342614735,-0.2795152371230238,0.26398661283841135,0.22516505212688018,-0.39597991925761705,0.30280817354994244,1.5839196770304682,-0.8230170870844591,1.0404178270690332,-0.5900877228152726,1.7392059198765926,-1.5218051798920182,0.9627747056459707,-1.5994483013150804,0.9627747056459707,-0.6289092835268036,0.8074884627998464,-1.7547345441612048,1.467454994895875,-1.6770914227381426,0.8851315842229085,-1.5606267406035494,0.8463100235113774,-1.7547345441612048,1.6615627984535304,-0.39597991925761705,1.4286334341843439,-1.4829836191804873,1.8168490412996547,-0.5512661621037415,0.9239531449344396,-1.0947680120651764,1.5450981163189372,-1.288875815622832,1.467454994895875,-1.1724111334882386,1.001596266357502,-1.327697376334363,1.506276555607406,-1.9100207870073291,1.0792393877805642,-1.9100207870073291,0.8851315842229085,-0.5900877228152726,1.2733471913382197,-1.7547345441612048,1.6615627984535304,-0.9394817692190522,0.9627747056459707,-1.1724111334882386,1.7392059198765926,-0.9006602085075212,0.49691597710759783,-1.444162058468956,0.9627747056459707,-1.5606267406035494,1.6227412377419994,-1.444162058468956,1.3898118734728129,-1.3665189370458939,0.7298453413767843,-1.405340497757425,1.5450981163189372,-0.7065524049498658,1.3898118734728129,-1.3665189370458939,1.467454994895875,-0.4348014799691481,1.8168490412996547,-1.0171248906421142,0.6910237806652532,-1.288875815622832,1.3509903127612817,-1.0559464513536454,0.7298453413767843,-1.6382698620266116,1.5839196770304682,-1.327697376334363,1.1180609484920954,-0.8618386477959901,0.9239531449344396,-1.2500542549113007,1.2733471913382197],\"type\":\"scatter3d\"}],                        {\"template\":{\"data\":{\"bar\":[{\"error_x\":{\"color\":\"#2a3f5f\"},\"error_y\":{\"color\":\"#2a3f5f\"},\"marker\":{\"line\":{\"color\":\"#E5ECF6\",\"width\":0.5},\"pattern\":{\"fillmode\":\"overlay\",\"size\":10,\"solidity\":0.2}},\"type\":\"bar\"}],\"barpolar\":[{\"marker\":{\"line\":{\"color\":\"#E5ECF6\",\"width\":0.5},\"pattern\":{\"fillmode\":\"overlay\",\"size\":10,\"solidity\":0.2}},\"type\":\"barpolar\"}],\"carpet\":[{\"aaxis\":{\"endlinecolor\":\"#2a3f5f\",\"gridcolor\":\"white\",\"linecolor\":\"white\",\"minorgridcolor\":\"white\",\"startlinecolor\":\"#2a3f5f\"},\"baxis\":{\"endlinecolor\":\"#2a3f5f\",\"gridcolor\":\"white\",\"linecolor\":\"white\",\"minorgridcolor\":\"white\",\"startlinecolor\":\"#2a3f5f\"},\"type\":\"carpet\"}],\"choropleth\":[{\"colorbar\":{\"outlinewidth\":0,\"ticks\":\"\"},\"type\":\"choropleth\"}],\"contour\":[{\"colorbar\":{\"outlinewidth\":0,\"ticks\":\"\"},\"colorscale\":[[0.0,\"#0d0887\"],[0.1111111111111111,\"#46039f\"],[0.2222222222222222,\"#7201a8\"],[0.3333333333333333,\"#9c179e\"],[0.4444444444444444,\"#bd3786\"],[0.5555555555555556,\"#d8576b\"],[0.6666666666666666,\"#ed7953\"],[0.7777777777777778,\"#fb9f3a\"],[0.8888888888888888,\"#fdca26\"],[1.0,\"#f0f921\"]],\"type\":\"contour\"}],\"contourcarpet\":[{\"colorbar\":{\"outlinewidth\":0,\"ticks\":\"\"},\"type\":\"contourcarpet\"}],\"heatmap\":[{\"colorbar\":{\"outlinewidth\":0,\"ticks\":\"\"},\"colorscale\":[[0.0,\"#0d0887\"],[0.1111111111111111,\"#46039f\"],[0.2222222222222222,\"#7201a8\"],[0.3333333333333333,\"#9c179e\"],[0.4444444444444444,\"#bd3786\"],[0.5555555555555556,\"#d8576b\"],[0.6666666666666666,\"#ed7953\"],[0.7777777777777778,\"#fb9f3a\"],[0.8888888888888888,\"#fdca26\"],[1.0,\"#f0f921\"]],\"type\":\"heatmap\"}],\"heatmapgl\":[{\"colorbar\":{\"outlinewidth\":0,\"ticks\":\"\"},\"colorscale\":[[0.0,\"#0d0887\"],[0.1111111111111111,\"#46039f\"],[0.2222222222222222,\"#7201a8\"],[0.3333333333333333,\"#9c179e\"],[0.4444444444444444,\"#bd3786\"],[0.5555555555555556,\"#d8576b\"],[0.6666666666666666,\"#ed7953\"],[0.7777777777777778,\"#fb9f3a\"],[0.8888888888888888,\"#fdca26\"],[1.0,\"#f0f921\"]],\"type\":\"heatmapgl\"}],\"histogram\":[{\"marker\":{\"pattern\":{\"fillmode\":\"overlay\",\"size\":10,\"solidity\":0.2}},\"type\":\"histogram\"}],\"histogram2d\":[{\"colorbar\":{\"outlinewidth\":0,\"ticks\":\"\"},\"colorscale\":[[0.0,\"#0d0887\"],[0.1111111111111111,\"#46039f\"],[0.2222222222222222,\"#7201a8\"],[0.3333333333333333,\"#9c179e\"],[0.4444444444444444,\"#bd3786\"],[0.5555555555555556,\"#d8576b\"],[0.6666666666666666,\"#ed7953\"],[0.7777777777777778,\"#fb9f3a\"],[0.8888888888888888,\"#fdca26\"],[1.0,\"#f0f921\"]],\"type\":\"histogram2d\"}],\"histogram2dcontour\":[{\"colorbar\":{\"outlinewidth\":0,\"ticks\":\"\"},\"colorscale\":[[0.0,\"#0d0887\"],[0.1111111111111111,\"#46039f\"],[0.2222222222222222,\"#7201a8\"],[0.3333333333333333,\"#9c179e\"],[0.4444444444444444,\"#bd3786\"],[0.5555555555555556,\"#d8576b\"],[0.6666666666666666,\"#ed7953\"],[0.7777777777777778,\"#fb9f3a\"],[0.8888888888888888,\"#fdca26\"],[1.0,\"#f0f921\"]],\"type\":\"histogram2dcontour\"}],\"mesh3d\":[{\"colorbar\":{\"outlinewidth\":0,\"ticks\":\"\"},\"type\":\"mesh3d\"}],\"parcoords\":[{\"line\":{\"colorbar\":{\"outlinewidth\":0,\"ticks\":\"\"}},\"type\":\"parcoords\"}],\"pie\":[{\"automargin\":true,\"type\":\"pie\"}],\"scatter\":[{\"marker\":{\"colorbar\":{\"outlinewidth\":0,\"ticks\":\"\"}},\"type\":\"scatter\"}],\"scatter3d\":[{\"line\":{\"colorbar\":{\"outlinewidth\":0,\"ticks\":\"\"}},\"marker\":{\"colorbar\":{\"outlinewidth\":0,\"ticks\":\"\"}},\"type\":\"scatter3d\"}],\"scattercarpet\":[{\"marker\":{\"colorbar\":{\"outlinewidth\":0,\"ticks\":\"\"}},\"type\":\"scattercarpet\"}],\"scattergeo\":[{\"marker\":{\"colorbar\":{\"outlinewidth\":0,\"ticks\":\"\"}},\"type\":\"scattergeo\"}],\"scattergl\":[{\"marker\":{\"colorbar\":{\"outlinewidth\":0,\"ticks\":\"\"}},\"type\":\"scattergl\"}],\"scattermapbox\":[{\"marker\":{\"colorbar\":{\"outlinewidth\":0,\"ticks\":\"\"}},\"type\":\"scattermapbox\"}],\"scatterpolar\":[{\"marker\":{\"colorbar\":{\"outlinewidth\":0,\"ticks\":\"\"}},\"type\":\"scatterpolar\"}],\"scatterpolargl\":[{\"marker\":{\"colorbar\":{\"outlinewidth\":0,\"ticks\":\"\"}},\"type\":\"scatterpolargl\"}],\"scatterternary\":[{\"marker\":{\"colorbar\":{\"outlinewidth\":0,\"ticks\":\"\"}},\"type\":\"scatterternary\"}],\"surface\":[{\"colorbar\":{\"outlinewidth\":0,\"ticks\":\"\"},\"colorscale\":[[0.0,\"#0d0887\"],[0.1111111111111111,\"#46039f\"],[0.2222222222222222,\"#7201a8\"],[0.3333333333333333,\"#9c179e\"],[0.4444444444444444,\"#bd3786\"],[0.5555555555555556,\"#d8576b\"],[0.6666666666666666,\"#ed7953\"],[0.7777777777777778,\"#fb9f3a\"],[0.8888888888888888,\"#fdca26\"],[1.0,\"#f0f921\"]],\"type\":\"surface\"}],\"table\":[{\"cells\":{\"fill\":{\"color\":\"#EBF0F8\"},\"line\":{\"color\":\"white\"}},\"header\":{\"fill\":{\"color\":\"#C8D4E3\"},\"line\":{\"color\":\"white\"}},\"type\":\"table\"}]},\"layout\":{\"annotationdefaults\":{\"arrowcolor\":\"#2a3f5f\",\"arrowhead\":0,\"arrowwidth\":1},\"autotypenumbers\":\"strict\",\"coloraxis\":{\"colorbar\":{\"outlinewidth\":0,\"ticks\":\"\"}},\"colorscale\":{\"diverging\":[[0,\"#8e0152\"],[0.1,\"#c51b7d\"],[0.2,\"#de77ae\"],[0.3,\"#f1b6da\"],[0.4,\"#fde0ef\"],[0.5,\"#f7f7f7\"],[0.6,\"#e6f5d0\"],[0.7,\"#b8e186\"],[0.8,\"#7fbc41\"],[0.9,\"#4d9221\"],[1,\"#276419\"]],\"sequential\":[[0.0,\"#0d0887\"],[0.1111111111111111,\"#46039f\"],[0.2222222222222222,\"#7201a8\"],[0.3333333333333333,\"#9c179e\"],[0.4444444444444444,\"#bd3786\"],[0.5555555555555556,\"#d8576b\"],[0.6666666666666666,\"#ed7953\"],[0.7777777777777778,\"#fb9f3a\"],[0.8888888888888888,\"#fdca26\"],[1.0,\"#f0f921\"]],\"sequentialminus\":[[0.0,\"#0d0887\"],[0.1111111111111111,\"#46039f\"],[0.2222222222222222,\"#7201a8\"],[0.3333333333333333,\"#9c179e\"],[0.4444444444444444,\"#bd3786\"],[0.5555555555555556,\"#d8576b\"],[0.6666666666666666,\"#ed7953\"],[0.7777777777777778,\"#fb9f3a\"],[0.8888888888888888,\"#fdca26\"],[1.0,\"#f0f921\"]]},\"colorway\":[\"#636efa\",\"#EF553B\",\"#00cc96\",\"#ab63fa\",\"#FFA15A\",\"#19d3f3\",\"#FF6692\",\"#B6E880\",\"#FF97FF\",\"#FECB52\"],\"font\":{\"color\":\"#2a3f5f\"},\"geo\":{\"bgcolor\":\"white\",\"lakecolor\":\"white\",\"landcolor\":\"#E5ECF6\",\"showlakes\":true,\"showland\":true,\"subunitcolor\":\"white\"},\"hoverlabel\":{\"align\":\"left\"},\"hovermode\":\"closest\",\"mapbox\":{\"style\":\"light\"},\"paper_bgcolor\":\"white\",\"plot_bgcolor\":\"#E5ECF6\",\"polar\":{\"angularaxis\":{\"gridcolor\":\"white\",\"linecolor\":\"white\",\"ticks\":\"\"},\"bgcolor\":\"#E5ECF6\",\"radialaxis\":{\"gridcolor\":\"white\",\"linecolor\":\"white\",\"ticks\":\"\"}},\"scene\":{\"xaxis\":{\"backgroundcolor\":\"#E5ECF6\",\"gridcolor\":\"white\",\"gridwidth\":2,\"linecolor\":\"white\",\"showbackground\":true,\"ticks\":\"\",\"zerolinecolor\":\"white\"},\"yaxis\":{\"backgroundcolor\":\"#E5ECF6\",\"gridcolor\":\"white\",\"gridwidth\":2,\"linecolor\":\"white\",\"showbackground\":true,\"ticks\":\"\",\"zerolinecolor\":\"white\"},\"zaxis\":{\"backgroundcolor\":\"#E5ECF6\",\"gridcolor\":\"white\",\"gridwidth\":2,\"linecolor\":\"white\",\"showbackground\":true,\"ticks\":\"\",\"zerolinecolor\":\"white\"}},\"shapedefaults\":{\"line\":{\"color\":\"#2a3f5f\"}},\"ternary\":{\"aaxis\":{\"gridcolor\":\"white\",\"linecolor\":\"white\",\"ticks\":\"\"},\"baxis\":{\"gridcolor\":\"white\",\"linecolor\":\"white\",\"ticks\":\"\"},\"bgcolor\":\"#E5ECF6\",\"caxis\":{\"gridcolor\":\"white\",\"linecolor\":\"white\",\"ticks\":\"\"}},\"title\":{\"x\":0.05},\"xaxis\":{\"automargin\":true,\"gridcolor\":\"white\",\"linecolor\":\"white\",\"ticks\":\"\",\"title\":{\"standoff\":15},\"zerolinecolor\":\"white\",\"zerolinewidth\":2},\"yaxis\":{\"automargin\":true,\"gridcolor\":\"white\",\"linecolor\":\"white\",\"ticks\":\"\",\"title\":{\"standoff\":15},\"zerolinecolor\":\"white\",\"zerolinewidth\":2}}},\"scene\":{\"domain\":{\"x\":[0.0,1.0],\"y\":[0.0,1.0]},\"xaxis\":{\"title\":{\"text\":\"age\"}},\"yaxis\":{\"title\":{\"text\":\"annual_income\"}},\"zaxis\":{\"title\":{\"text\":\"spending_score\"}}},\"coloraxis\":{\"colorbar\":{\"title\":{\"text\":\"color\"}},\"colorscale\":[[0.0,\"#0d0887\"],[0.1111111111111111,\"#46039f\"],[0.2222222222222222,\"#7201a8\"],[0.3333333333333333,\"#9c179e\"],[0.4444444444444444,\"#bd3786\"],[0.5555555555555556,\"#d8576b\"],[0.6666666666666666,\"#ed7953\"],[0.7777777777777778,\"#fb9f3a\"],[0.8888888888888888,\"#fdca26\"],[1.0,\"#f0f921\"]]},\"legend\":{\"tracegroupgap\":0,\"itemsizing\":\"constant\"},\"margin\":{\"t\":60}},                        {\"responsive\": true}                    ).then(function(){\n",
       "                            \n",
       "var gd = document.getElementById('0aa4ae45-485c-4756-9990-743f09e54b3f');\n",
       "var x = new MutationObserver(function (mutations, observer) {{\n",
       "        var display = window.getComputedStyle(gd).display;\n",
       "        if (!display || display === 'none') {{\n",
       "            console.log([gd, 'removed!']);\n",
       "            Plotly.purge(gd);\n",
       "            observer.disconnect();\n",
       "        }}\n",
       "}});\n",
       "\n",
       "// Listen for the removal of the full notebook cells\n",
       "var notebookContainer = gd.closest('#notebook-container');\n",
       "if (notebookContainer) {{\n",
       "    x.observe(notebookContainer, {childList: true});\n",
       "}}\n",
       "\n",
       "// Listen for the clearing of the current output cell\n",
       "var outputEl = gd.closest('.output');\n",
       "if (outputEl) {{\n",
       "    x.observe(outputEl, {childList: true});\n",
       "}}\n",
       "\n",
       "                        })                };                });            </script>        </div>"
      ]
     },
     "metadata": {},
     "output_type": "display_data"
    }
   ],
   "source": [
    "# fit model\n",
    "kmeans_model = KMeans(n_clusters = 6,max_iter = 1000)\n",
    "kmeans_model.fit(X)\n",
    "\n",
    "# get centroids\n",
    "centroids = kmeans_model.cluster_centers_\n",
    "\n",
    "# get labels\n",
    "labels = kmeans_model.labels_\n",
    "\n",
    "# visualize clusters\n",
    "\n",
    "fig = px.scatter_3d(X , x='age', y='annual_income', z='spending_score',\n",
    "                    color = labels, size = labels)\n",
    "\n",
    "fig.show()"
   ]
  },
  {
   "cell_type": "code",
   "execution_count": 62,
   "id": "e2935da5",
   "metadata": {},
   "outputs": [
    {
     "ename": "ValueError",
     "evalue": "The first argument to the plotly.graph_objs.Scatter3d \nconstructor must be a dict or \nan instance of :class:`plotly.graph_objs.Scatter3d`",
     "output_type": "error",
     "traceback": [
      "\u001b[1;31m---------------------------------------------------------------------------\u001b[0m",
      "\u001b[1;31mValueError\u001b[0m                                Traceback (most recent call last)",
      "Input \u001b[1;32mIn [62]\u001b[0m, in \u001b[0;36m<cell line: 1>\u001b[1;34m()\u001b[0m\n\u001b[1;32m----> 1\u001b[0m fig \u001b[38;5;241m=\u001b[39m go\u001b[38;5;241m.\u001b[39mFigure(data \u001b[38;5;241m=\u001b[39m[\u001b[43mgo\u001b[49m\u001b[38;5;241;43m.\u001b[39;49m\u001b[43mScatter3d\u001b[49m\u001b[43m(\u001b[49m\u001b[43mX\u001b[49m\u001b[43m \u001b[49m\u001b[43m,\u001b[49m\u001b[43m \u001b[49m\u001b[43mx\u001b[49m\u001b[38;5;241;43m=\u001b[39;49m\u001b[38;5;124;43m'\u001b[39;49m\u001b[38;5;124;43mage\u001b[39;49m\u001b[38;5;124;43m'\u001b[39;49m\u001b[43m,\u001b[49m\u001b[43m \u001b[49m\u001b[43my\u001b[49m\u001b[38;5;241;43m=\u001b[39;49m\u001b[38;5;124;43m'\u001b[39;49m\u001b[38;5;124;43mannual_income\u001b[39;49m\u001b[38;5;124;43m'\u001b[39;49m\u001b[43m,\u001b[49m\u001b[43m \u001b[49m\u001b[43mz\u001b[49m\u001b[38;5;241;43m=\u001b[39;49m\u001b[38;5;124;43m'\u001b[39;49m\u001b[38;5;124;43mspending_score\u001b[39;49m\u001b[38;5;124;43m'\u001b[39;49m\u001b[43m,\u001b[49m\n\u001b[0;32m      2\u001b[0m \u001b[43m                    \u001b[49m\u001b[43mcolor\u001b[49m\u001b[43m \u001b[49m\u001b[38;5;241;43m=\u001b[39;49m\u001b[43m \u001b[49m\u001b[43mlabels\u001b[49m\u001b[43m,\u001b[49m\u001b[43m \u001b[49m\u001b[43msize\u001b[49m\u001b[43m \u001b[49m\u001b[38;5;241;43m=\u001b[39;49m\u001b[43m \u001b[49m\u001b[43mlabels\u001b[49m\u001b[43m)\u001b[49m])\n\u001b[0;32m      4\u001b[0m fig\u001b[38;5;241m.\u001b[39madd_trace(\n\u001b[0;32m      5\u001b[0m     go\u001b[38;5;241m.\u001b[39mScatter3d(x\u001b[38;5;241m=\u001b[39mcentroids[:,\u001b[38;5;241m0\u001b[39m],\n\u001b[0;32m      6\u001b[0m                  y\u001b[38;5;241m=\u001b[39mcentroids[:,\u001b[38;5;241m1\u001b[39m],\n\u001b[0;32m      7\u001b[0m                  z\u001b[38;5;241m=\u001b[39mcentroids[:,\u001b[38;5;241m2\u001b[39m])\n\u001b[0;32m      8\u001b[0m )\n\u001b[0;32m      9\u001b[0m fig\u001b[38;5;241m.\u001b[39mshow()\n",
      "File \u001b[1;32mC:\\ProgramData\\Anaconda3\\lib\\site-packages\\plotly\\graph_objs\\_scatter3d.py:2501\u001b[0m, in \u001b[0;36mScatter3d.__init__\u001b[1;34m(self, arg, connectgaps, customdata, customdatasrc, error_x, error_y, error_z, hoverinfo, hoverinfosrc, hoverlabel, hovertemplate, hovertemplatesrc, hovertext, hovertextsrc, ids, idssrc, legendgroup, legendgrouptitle, legendrank, line, marker, meta, metasrc, mode, name, opacity, projection, scene, showlegend, stream, surfaceaxis, surfacecolor, text, textfont, textposition, textpositionsrc, textsrc, texttemplate, texttemplatesrc, uid, uirevision, visible, x, xcalendar, xhoverformat, xsrc, y, ycalendar, yhoverformat, ysrc, z, zcalendar, zhoverformat, zsrc, **kwargs)\u001b[0m\n\u001b[0;32m   2499\u001b[0m             arg \u001b[38;5;241m=\u001b[39m _copy\u001b[38;5;241m.\u001b[39mcopy(arg)\n\u001b[0;32m   2500\u001b[0m         \u001b[38;5;28;01melse\u001b[39;00m:\n\u001b[1;32m-> 2501\u001b[0m             \u001b[38;5;28;01mraise\u001b[39;00m \u001b[38;5;167;01mValueError\u001b[39;00m(\n\u001b[0;32m   2502\u001b[0m                 \u001b[38;5;124;03m\"\"\"\\\u001b[39;00m\n\u001b[0;32m   2503\u001b[0m \u001b[38;5;124;03mThe first argument to the plotly.graph_objs.Scatter3d \u001b[39;00m\n\u001b[0;32m   2504\u001b[0m \u001b[38;5;124;03mconstructor must be a dict or \u001b[39;00m\n\u001b[0;32m   2505\u001b[0m \u001b[38;5;124;03man instance of :class:`plotly.graph_objs.Scatter3d`\"\"\"\u001b[39;00m\n\u001b[0;32m   2506\u001b[0m             )\n\u001b[0;32m   2508\u001b[0m         \u001b[38;5;66;03m# Handle skip_invalid\u001b[39;00m\n\u001b[0;32m   2509\u001b[0m         \u001b[38;5;66;03m# -------------------\u001b[39;00m\n\u001b[0;32m   2510\u001b[0m         \u001b[38;5;28mself\u001b[39m\u001b[38;5;241m.\u001b[39m_skip_invalid \u001b[38;5;241m=\u001b[39m kwargs\u001b[38;5;241m.\u001b[39mpop(\u001b[38;5;124m\"\u001b[39m\u001b[38;5;124mskip_invalid\u001b[39m\u001b[38;5;124m\"\u001b[39m, \u001b[38;5;28;01mFalse\u001b[39;00m)\n",
      "\u001b[1;31mValueError\u001b[0m: The first argument to the plotly.graph_objs.Scatter3d \nconstructor must be a dict or \nan instance of :class:`plotly.graph_objs.Scatter3d`"
     ]
    }
   ],
   "source": [
    "fig = go.Figure(data =[go.Scatter3d(X , x='age', y='annual_income', z='spending_score',\n",
    "                    color = labels, size = labels)])\n",
    "\n",
    "fig.add_trace(\n",
    "    go.Scatter3d(x=centroids[:,0],\n",
    "                 y=centroids[:,1],\n",
    "                 z=centroids[:,2])\n",
    ")\n",
    "fig.show()"
   ]
  },
  {
   "cell_type": "markdown",
   "id": "eb2697c1",
   "metadata": {},
   "source": [
    "# 5. Conclusion"
   ]
  },
  {
   "cell_type": "code",
   "execution_count": null,
   "id": "fda6dfef",
   "metadata": {},
   "outputs": [],
   "source": []
  }
 ],
 "metadata": {
  "kernelspec": {
   "display_name": "Python 3 (ipykernel)",
   "language": "python",
   "name": "python3"
  },
  "language_info": {
   "codemirror_mode": {
    "name": "ipython",
    "version": 3
   },
   "file_extension": ".py",
   "mimetype": "text/x-python",
   "name": "python",
   "nbconvert_exporter": "python",
   "pygments_lexer": "ipython3",
   "version": "3.9.12"
  }
 },
 "nbformat": 4,
 "nbformat_minor": 5
}
